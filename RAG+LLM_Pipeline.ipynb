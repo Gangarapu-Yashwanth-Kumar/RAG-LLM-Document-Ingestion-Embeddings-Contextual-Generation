{
 "cells": [
  {
   "cell_type": "markdown",
   "metadata": {},
   "source": [
    "# RAG + LLM: Document Ingestion, Embeddings & Contextual Generation\n",
    "\n",
    "This notebook demonstrates a Retrieval-Augmented Generation (RAG) pipeline integrated with Large Language Models (LLMs), covering document ingestion, embeddings, vector search, and context-aware answering.\n",
    "\n"
   ]
  },
  {
   "cell_type": "markdown",
   "metadata": {},
   "source": [
    "## Check GPU Availability"
   ]
  },
  {
   "cell_type": "code",
   "execution_count": 3,
   "metadata": {
    "colab": {
     "base_uri": "https://localhost:8080/"
    },
    "id": "8Tl2VbgLO57w",
    "outputId": "3b64e5a7-d8f9-494b-da1e-ee04f0e60788"
   },
   "outputs": [
    {
     "name": "stdout",
     "output_type": "stream",
     "text": [
      "Tue Jul 29 08:55:55 2025       \n",
      "+-----------------------------------------------------------------------------------------+\n",
      "| NVIDIA-SMI 550.54.15              Driver Version: 550.54.15      CUDA Version: 12.4     |\n",
      "|-----------------------------------------+------------------------+----------------------+\n",
      "| GPU  Name                 Persistence-M | Bus-Id          Disp.A | Volatile Uncorr. ECC |\n",
      "| Fan  Temp   Perf          Pwr:Usage/Cap |           Memory-Usage | GPU-Util  Compute M. |\n",
      "|                                         |                        |               MIG M. |\n",
      "|=========================================+========================+======================|\n",
      "|   0  Tesla T4                       Off |   00000000:00:04.0 Off |                    0 |\n",
      "| N/A   40C    P8              9W /   70W |       0MiB /  15360MiB |      0%      Default |\n",
      "|                                         |                        |                  N/A |\n",
      "+-----------------------------------------+------------------------+----------------------+\n",
      "                                                                                         \n",
      "+-----------------------------------------------------------------------------------------+\n",
      "| Processes:                                                                              |\n",
      "|  GPU   GI   CI        PID   Type   Process name                              GPU Memory |\n",
      "|        ID   ID                                                               Usage      |\n",
      "|=========================================================================================|\n",
      "|  No running processes found                                                             |\n",
      "+-----------------------------------------------------------------------------------------+\n"
     ]
    }
   ],
   "source": [
    "!nvidia-smi"
   ]
  },
  {
   "cell_type": "markdown",
   "metadata": {},
   "source": [
    "## Install Required Packages"
   ]
  },
  {
   "cell_type": "code",
   "execution_count": 4,
   "metadata": {
    "colab": {
     "base_uri": "https://localhost:8080/"
    },
    "id": "jyzAIGSVO8Me",
    "outputId": "1d327bfa-ca00-47c4-f99a-54ef304878d3"
   },
   "outputs": [
    {
     "name": "stdout",
     "output_type": "stream",
     "text": [
      "Requirement already satisfied: chromadb in /usr/local/lib/python3.11/dist-packages (1.0.15)\n",
      "Requirement already satisfied: langchain in /usr/local/lib/python3.11/dist-packages (0.3.27)\n",
      "Requirement already satisfied: langchain-groq in /usr/local/lib/python3.11/dist-packages (0.3.6)\n",
      "Requirement already satisfied: langchain-community in /usr/local/lib/python3.11/dist-packages (0.3.27)\n",
      "Requirement already satisfied: langchain-chroma in /usr/local/lib/python3.11/dist-packages (0.2.5)\n",
      "Requirement already satisfied: langchain-text-splitters in /usr/local/lib/python3.11/dist-packages (0.3.9)\n",
      "Requirement already satisfied: transformers in /usr/local/lib/python3.11/dist-packages (4.54.0)\n",
      "Requirement already satisfied: sentence-transformers in /usr/local/lib/python3.11/dist-packages (5.0.0)\n",
      "Requirement already satisfied: unstructured in /usr/local/lib/python3.11/dist-packages (0.18.11)\n",
      "Requirement already satisfied: build>=1.0.3 in /usr/local/lib/python3.11/dist-packages (from chromadb) (1.2.2.post1)\n",
      "Requirement already satisfied: pydantic>=1.9 in /usr/local/lib/python3.11/dist-packages (from chromadb) (2.11.7)\n",
      "Requirement already satisfied: pybase64>=1.4.1 in /usr/local/lib/python3.11/dist-packages (from chromadb) (1.4.2)\n",
      "Requirement already satisfied: uvicorn>=0.18.3 in /usr/local/lib/python3.11/dist-packages (from uvicorn[standard]>=0.18.3->chromadb) (0.35.0)\n",
      "Requirement already satisfied: numpy>=1.22.5 in /usr/local/lib/python3.11/dist-packages (from chromadb) (2.0.2)\n",
      "Requirement already satisfied: posthog<6.0.0,>=2.4.0 in /usr/local/lib/python3.11/dist-packages (from chromadb) (5.4.0)\n",
      "Requirement already satisfied: typing-extensions>=4.5.0 in /usr/local/lib/python3.11/dist-packages (from chromadb) (4.14.1)\n",
      "Requirement already satisfied: onnxruntime>=1.14.1 in /usr/local/lib/python3.11/dist-packages (from chromadb) (1.22.1)\n",
      "Requirement already satisfied: opentelemetry-api>=1.2.0 in /usr/local/lib/python3.11/dist-packages (from chromadb) (1.35.0)\n",
      "Requirement already satisfied: opentelemetry-exporter-otlp-proto-grpc>=1.2.0 in /usr/local/lib/python3.11/dist-packages (from chromadb) (1.35.0)\n",
      "Requirement already satisfied: opentelemetry-sdk>=1.2.0 in /usr/local/lib/python3.11/dist-packages (from chromadb) (1.35.0)\n",
      "Requirement already satisfied: tokenizers>=0.13.2 in /usr/local/lib/python3.11/dist-packages (from chromadb) (0.21.2)\n",
      "Requirement already satisfied: pypika>=0.48.9 in /usr/local/lib/python3.11/dist-packages (from chromadb) (0.48.9)\n",
      "Requirement already satisfied: tqdm>=4.65.0 in /usr/local/lib/python3.11/dist-packages (from chromadb) (4.67.1)\n",
      "Requirement already satisfied: overrides>=7.3.1 in /usr/local/lib/python3.11/dist-packages (from chromadb) (7.7.0)\n",
      "Requirement already satisfied: importlib-resources in /usr/local/lib/python3.11/dist-packages (from chromadb) (6.5.2)\n",
      "Requirement already satisfied: grpcio>=1.58.0 in /usr/local/lib/python3.11/dist-packages (from chromadb) (1.74.0)\n",
      "Requirement already satisfied: bcrypt>=4.0.1 in /usr/local/lib/python3.11/dist-packages (from chromadb) (4.3.0)\n",
      "Requirement already satisfied: typer>=0.9.0 in /usr/local/lib/python3.11/dist-packages (from chromadb) (0.16.0)\n",
      "Requirement already satisfied: kubernetes>=28.1.0 in /usr/local/lib/python3.11/dist-packages (from chromadb) (33.1.0)\n",
      "Requirement already satisfied: tenacity>=8.2.3 in /usr/local/lib/python3.11/dist-packages (from chromadb) (8.5.0)\n",
      "Requirement already satisfied: pyyaml>=6.0.0 in /usr/local/lib/python3.11/dist-packages (from chromadb) (6.0.2)\n",
      "Requirement already satisfied: mmh3>=4.0.1 in /usr/local/lib/python3.11/dist-packages (from chromadb) (5.2.0)\n",
      "Requirement already satisfied: orjson>=3.9.12 in /usr/local/lib/python3.11/dist-packages (from chromadb) (3.11.0)\n",
      "Requirement already satisfied: httpx>=0.27.0 in /usr/local/lib/python3.11/dist-packages (from chromadb) (0.28.1)\n",
      "Requirement already satisfied: rich>=10.11.0 in /usr/local/lib/python3.11/dist-packages (from chromadb) (13.9.4)\n",
      "Requirement already satisfied: jsonschema>=4.19.0 in /usr/local/lib/python3.11/dist-packages (from chromadb) (4.25.0)\n",
      "Requirement already satisfied: langchain-core<1.0.0,>=0.3.72 in /usr/local/lib/python3.11/dist-packages (from langchain) (0.3.72)\n",
      "Requirement already satisfied: langsmith>=0.1.17 in /usr/local/lib/python3.11/dist-packages (from langchain) (0.4.8)\n",
      "Requirement already satisfied: SQLAlchemy<3,>=1.4 in /usr/local/lib/python3.11/dist-packages (from langchain) (2.0.41)\n",
      "Requirement already satisfied: requests<3,>=2 in /usr/local/lib/python3.11/dist-packages (from langchain) (2.32.3)\n",
      "Requirement already satisfied: groq<1,>=0.29.0 in /usr/local/lib/python3.11/dist-packages (from langchain-groq) (0.30.0)\n",
      "Requirement already satisfied: aiohttp<4.0.0,>=3.8.3 in /usr/local/lib/python3.11/dist-packages (from langchain-community) (3.12.14)\n",
      "Requirement already satisfied: dataclasses-json<0.7,>=0.5.7 in /usr/local/lib/python3.11/dist-packages (from langchain-community) (0.6.7)\n",
      "Requirement already satisfied: pydantic-settings<3.0.0,>=2.4.0 in /usr/local/lib/python3.11/dist-packages (from langchain-community) (2.10.1)\n",
      "Requirement already satisfied: httpx-sse<1.0.0,>=0.4.0 in /usr/local/lib/python3.11/dist-packages (from langchain-community) (0.4.1)\n",
      "Requirement already satisfied: filelock in /usr/local/lib/python3.11/dist-packages (from transformers) (3.18.0)\n",
      "Requirement already satisfied: huggingface-hub<1.0,>=0.34.0 in /usr/local/lib/python3.11/dist-packages (from transformers) (0.34.3)\n",
      "Requirement already satisfied: packaging>=20.0 in /usr/local/lib/python3.11/dist-packages (from transformers) (25.0)\n",
      "Requirement already satisfied: regex!=2019.12.17 in /usr/local/lib/python3.11/dist-packages (from transformers) (2024.11.6)\n",
      "Requirement already satisfied: safetensors>=0.4.3 in /usr/local/lib/python3.11/dist-packages (from transformers) (0.5.3)\n",
      "Requirement already satisfied: torch>=1.11.0 in /usr/local/lib/python3.11/dist-packages (from sentence-transformers) (2.6.0+cu124)\n",
      "Requirement already satisfied: scikit-learn in /usr/local/lib/python3.11/dist-packages (from sentence-transformers) (1.6.1)\n",
      "Requirement already satisfied: scipy in /usr/local/lib/python3.11/dist-packages (from sentence-transformers) (1.16.0)\n",
      "Requirement already satisfied: Pillow in /usr/local/lib/python3.11/dist-packages (from sentence-transformers) (11.3.0)\n",
      "Requirement already satisfied: charset-normalizer in /usr/local/lib/python3.11/dist-packages (from unstructured) (3.4.2)\n",
      "Requirement already satisfied: filetype in /usr/local/lib/python3.11/dist-packages (from unstructured) (1.2.0)\n",
      "Requirement already satisfied: python-magic in /usr/local/lib/python3.11/dist-packages (from unstructured) (0.4.27)\n",
      "Requirement already satisfied: lxml in /usr/local/lib/python3.11/dist-packages (from unstructured) (5.4.0)\n",
      "Requirement already satisfied: nltk in /usr/local/lib/python3.11/dist-packages (from unstructured) (3.9.1)\n",
      "Requirement already satisfied: beautifulsoup4 in /usr/local/lib/python3.11/dist-packages (from unstructured) (4.13.4)\n",
      "Requirement already satisfied: emoji in /usr/local/lib/python3.11/dist-packages (from unstructured) (2.14.1)\n",
      "Requirement already satisfied: python-iso639 in /usr/local/lib/python3.11/dist-packages (from unstructured) (2025.2.18)\n",
      "Requirement already satisfied: langdetect in /usr/local/lib/python3.11/dist-packages (from unstructured) (1.0.9)\n",
      "Requirement already satisfied: rapidfuzz in /usr/local/lib/python3.11/dist-packages (from unstructured) (3.13.0)\n",
      "Requirement already satisfied: backoff in /usr/local/lib/python3.11/dist-packages (from unstructured) (2.2.1)\n",
      "Requirement already satisfied: unstructured-client in /usr/local/lib/python3.11/dist-packages (from unstructured) (0.41.0)\n",
      "Requirement already satisfied: wrapt in /usr/local/lib/python3.11/dist-packages (from unstructured) (1.17.2)\n",
      "Requirement already satisfied: psutil in /usr/local/lib/python3.11/dist-packages (from unstructured) (5.9.5)\n",
      "Requirement already satisfied: python-oxmsg in /usr/local/lib/python3.11/dist-packages (from unstructured) (0.0.2)\n",
      "Requirement already satisfied: html5lib in /usr/local/lib/python3.11/dist-packages (from unstructured) (1.1)\n",
      "Requirement already satisfied: onnx>=1.17.0 in /usr/local/lib/python3.11/dist-packages (from unstructured[pdf]) (1.18.0)\n",
      "Requirement already satisfied: pdf2image in /usr/local/lib/python3.11/dist-packages (from unstructured[pdf]) (1.17.0)\n",
      "Requirement already satisfied: pdfminer.six in /usr/local/lib/python3.11/dist-packages (from unstructured[pdf]) (20250506)\n",
      "Requirement already satisfied: pikepdf in /usr/local/lib/python3.11/dist-packages (from unstructured[pdf]) (9.10.2)\n",
      "Requirement already satisfied: pi-heif in /usr/local/lib/python3.11/dist-packages (from unstructured[pdf]) (1.0.0)\n",
      "Requirement already satisfied: pypdf in /usr/local/lib/python3.11/dist-packages (from unstructured[pdf]) (5.9.0)\n",
      "Requirement already satisfied: google-cloud-vision in /usr/local/lib/python3.11/dist-packages (from unstructured[pdf]) (3.10.2)\n",
      "Requirement already satisfied: effdet in /usr/local/lib/python3.11/dist-packages (from unstructured[pdf]) (0.4.1)\n",
      "Requirement already satisfied: unstructured-inference>=1.0.5 in /usr/local/lib/python3.11/dist-packages (from unstructured[pdf]) (1.0.5)\n",
      "Requirement already satisfied: unstructured.pytesseract>=0.3.12 in /usr/local/lib/python3.11/dist-packages (from unstructured[pdf]) (0.3.15)\n",
      "Requirement already satisfied: aiohappyeyeballs>=2.5.0 in /usr/local/lib/python3.11/dist-packages (from aiohttp<4.0.0,>=3.8.3->langchain-community) (2.6.1)\n",
      "Requirement already satisfied: aiosignal>=1.4.0 in /usr/local/lib/python3.11/dist-packages (from aiohttp<4.0.0,>=3.8.3->langchain-community) (1.4.0)\n",
      "Requirement already satisfied: attrs>=17.3.0 in /usr/local/lib/python3.11/dist-packages (from aiohttp<4.0.0,>=3.8.3->langchain-community) (25.3.0)\n",
      "Requirement already satisfied: frozenlist>=1.1.1 in /usr/local/lib/python3.11/dist-packages (from aiohttp<4.0.0,>=3.8.3->langchain-community) (1.7.0)\n",
      "Requirement already satisfied: multidict<7.0,>=4.5 in /usr/local/lib/python3.11/dist-packages (from aiohttp<4.0.0,>=3.8.3->langchain-community) (6.6.3)\n",
      "Requirement already satisfied: propcache>=0.2.0 in /usr/local/lib/python3.11/dist-packages (from aiohttp<4.0.0,>=3.8.3->langchain-community) (0.3.2)\n",
      "Requirement already satisfied: yarl<2.0,>=1.17.0 in /usr/local/lib/python3.11/dist-packages (from aiohttp<4.0.0,>=3.8.3->langchain-community) (1.20.1)\n",
      "Requirement already satisfied: pyproject_hooks in /usr/local/lib/python3.11/dist-packages (from build>=1.0.3->chromadb) (1.2.0)\n",
      "Requirement already satisfied: marshmallow<4.0.0,>=3.18.0 in /usr/local/lib/python3.11/dist-packages (from dataclasses-json<0.7,>=0.5.7->langchain-community) (3.26.1)\n",
      "Requirement already satisfied: typing-inspect<1,>=0.4.0 in /usr/local/lib/python3.11/dist-packages (from dataclasses-json<0.7,>=0.5.7->langchain-community) (0.9.0)\n",
      "Requirement already satisfied: anyio<5,>=3.5.0 in /usr/local/lib/python3.11/dist-packages (from groq<1,>=0.29.0->langchain-groq) (4.9.0)\n",
      "Requirement already satisfied: distro<2,>=1.7.0 in /usr/local/lib/python3.11/dist-packages (from groq<1,>=0.29.0->langchain-groq) (1.9.0)\n",
      "Requirement already satisfied: sniffio in /usr/local/lib/python3.11/dist-packages (from groq<1,>=0.29.0->langchain-groq) (1.3.1)\n",
      "Requirement already satisfied: certifi in /usr/local/lib/python3.11/dist-packages (from httpx>=0.27.0->chromadb) (2025.7.14)\n",
      "Requirement already satisfied: httpcore==1.* in /usr/local/lib/python3.11/dist-packages (from httpx>=0.27.0->chromadb) (1.0.9)\n",
      "Requirement already satisfied: idna in /usr/local/lib/python3.11/dist-packages (from httpx>=0.27.0->chromadb) (3.10)\n",
      "Requirement already satisfied: h11>=0.16 in /usr/local/lib/python3.11/dist-packages (from httpcore==1.*->httpx>=0.27.0->chromadb) (0.16.0)\n",
      "Requirement already satisfied: fsspec>=2023.5.0 in /usr/local/lib/python3.11/dist-packages (from huggingface-hub<1.0,>=0.34.0->transformers) (2025.3.0)\n",
      "Requirement already satisfied: hf-xet<2.0.0,>=1.1.3 in /usr/local/lib/python3.11/dist-packages (from huggingface-hub<1.0,>=0.34.0->transformers) (1.1.5)\n",
      "Requirement already satisfied: jsonschema-specifications>=2023.03.6 in /usr/local/lib/python3.11/dist-packages (from jsonschema>=4.19.0->chromadb) (2025.4.1)\n",
      "Requirement already satisfied: referencing>=0.28.4 in /usr/local/lib/python3.11/dist-packages (from jsonschema>=4.19.0->chromadb) (0.36.2)\n",
      "Requirement already satisfied: rpds-py>=0.7.1 in /usr/local/lib/python3.11/dist-packages (from jsonschema>=4.19.0->chromadb) (0.26.0)\n",
      "Requirement already satisfied: six>=1.9.0 in /usr/local/lib/python3.11/dist-packages (from kubernetes>=28.1.0->chromadb) (1.17.0)\n",
      "Requirement already satisfied: python-dateutil>=2.5.3 in /usr/local/lib/python3.11/dist-packages (from kubernetes>=28.1.0->chromadb) (2.9.0.post0)\n",
      "Requirement already satisfied: google-auth>=1.0.1 in /usr/local/lib/python3.11/dist-packages (from kubernetes>=28.1.0->chromadb) (2.38.0)\n",
      "Requirement already satisfied: websocket-client!=0.40.0,!=0.41.*,!=0.42.*,>=0.32.0 in /usr/local/lib/python3.11/dist-packages (from kubernetes>=28.1.0->chromadb) (1.8.0)\n",
      "Requirement already satisfied: requests-oauthlib in /usr/local/lib/python3.11/dist-packages (from kubernetes>=28.1.0->chromadb) (2.0.0)\n",
      "Requirement already satisfied: oauthlib>=3.2.2 in /usr/local/lib/python3.11/dist-packages (from kubernetes>=28.1.0->chromadb) (3.3.1)\n",
      "Requirement already satisfied: urllib3>=1.24.2 in /usr/local/lib/python3.11/dist-packages (from kubernetes>=28.1.0->chromadb) (2.5.0)\n",
      "Requirement already satisfied: durationpy>=0.7 in /usr/local/lib/python3.11/dist-packages (from kubernetes>=28.1.0->chromadb) (0.10)\n",
      "Requirement already satisfied: jsonpatch<2.0,>=1.33 in /usr/local/lib/python3.11/dist-packages (from langchain-core<1.0.0,>=0.3.72->langchain) (1.33)\n",
      "Requirement already satisfied: requests-toolbelt<2.0.0,>=1.0.0 in /usr/local/lib/python3.11/dist-packages (from langsmith>=0.1.17->langchain) (1.0.0)\n",
      "Requirement already satisfied: zstandard<0.24.0,>=0.23.0 in /usr/local/lib/python3.11/dist-packages (from langsmith>=0.1.17->langchain) (0.23.0)\n",
      "Requirement already satisfied: protobuf>=4.25.1 in /usr/local/lib/python3.11/dist-packages (from onnx>=1.17.0->unstructured[pdf]) (5.29.5)\n",
      "Requirement already satisfied: coloredlogs in /usr/local/lib/python3.11/dist-packages (from onnxruntime>=1.14.1->chromadb) (15.0.1)\n",
      "Requirement already satisfied: flatbuffers in /usr/local/lib/python3.11/dist-packages (from onnxruntime>=1.14.1->chromadb) (25.2.10)\n",
      "Requirement already satisfied: sympy in /usr/local/lib/python3.11/dist-packages (from onnxruntime>=1.14.1->chromadb) (1.13.1)\n",
      "Requirement already satisfied: importlib-metadata<8.8.0,>=6.0 in /usr/local/lib/python3.11/dist-packages (from opentelemetry-api>=1.2.0->chromadb) (8.7.0)\n",
      "Requirement already satisfied: googleapis-common-protos~=1.57 in /usr/local/lib/python3.11/dist-packages (from opentelemetry-exporter-otlp-proto-grpc>=1.2.0->chromadb) (1.70.0)\n",
      "Requirement already satisfied: opentelemetry-exporter-otlp-proto-common==1.35.0 in /usr/local/lib/python3.11/dist-packages (from opentelemetry-exporter-otlp-proto-grpc>=1.2.0->chromadb) (1.35.0)\n",
      "Requirement already satisfied: opentelemetry-proto==1.35.0 in /usr/local/lib/python3.11/dist-packages (from opentelemetry-exporter-otlp-proto-grpc>=1.2.0->chromadb) (1.35.0)\n",
      "Requirement already satisfied: opentelemetry-semantic-conventions==0.56b0 in /usr/local/lib/python3.11/dist-packages (from opentelemetry-sdk>=1.2.0->chromadb) (0.56b0)\n",
      "Requirement already satisfied: annotated-types>=0.6.0 in /usr/local/lib/python3.11/dist-packages (from pydantic>=1.9->chromadb) (0.7.0)\n",
      "Requirement already satisfied: pydantic-core==2.33.2 in /usr/local/lib/python3.11/dist-packages (from pydantic>=1.9->chromadb) (2.33.2)\n",
      "Requirement already satisfied: typing-inspection>=0.4.0 in /usr/local/lib/python3.11/dist-packages (from pydantic>=1.9->chromadb) (0.4.1)\n",
      "Requirement already satisfied: python-dotenv>=0.21.0 in /usr/local/lib/python3.11/dist-packages (from pydantic-settings<3.0.0,>=2.4.0->langchain-community) (1.1.1)\n",
      "Requirement already satisfied: markdown-it-py>=2.2.0 in /usr/local/lib/python3.11/dist-packages (from rich>=10.11.0->chromadb) (3.0.0)\n",
      "Requirement already satisfied: pygments<3.0.0,>=2.13.0 in /usr/local/lib/python3.11/dist-packages (from rich>=10.11.0->chromadb) (2.19.2)\n",
      "Requirement already satisfied: greenlet>=1 in /usr/local/lib/python3.11/dist-packages (from SQLAlchemy<3,>=1.4->langchain) (3.2.3)\n",
      "Requirement already satisfied: networkx in /usr/local/lib/python3.11/dist-packages (from torch>=1.11.0->sentence-transformers) (3.5)\n",
      "Requirement already satisfied: jinja2 in /usr/local/lib/python3.11/dist-packages (from torch>=1.11.0->sentence-transformers) (3.1.6)\n",
      "Requirement already satisfied: nvidia-cuda-nvrtc-cu12==12.4.127 in /usr/local/lib/python3.11/dist-packages (from torch>=1.11.0->sentence-transformers) (12.4.127)\n",
      "Requirement already satisfied: nvidia-cuda-runtime-cu12==12.4.127 in /usr/local/lib/python3.11/dist-packages (from torch>=1.11.0->sentence-transformers) (12.4.127)\n",
      "Requirement already satisfied: nvidia-cuda-cupti-cu12==12.4.127 in /usr/local/lib/python3.11/dist-packages (from torch>=1.11.0->sentence-transformers) (12.4.127)\n",
      "Requirement already satisfied: nvidia-cudnn-cu12==9.1.0.70 in /usr/local/lib/python3.11/dist-packages (from torch>=1.11.0->sentence-transformers) (9.1.0.70)\n",
      "Requirement already satisfied: nvidia-cublas-cu12==12.4.5.8 in /usr/local/lib/python3.11/dist-packages (from torch>=1.11.0->sentence-transformers) (12.4.5.8)\n",
      "Requirement already satisfied: nvidia-cufft-cu12==11.2.1.3 in /usr/local/lib/python3.11/dist-packages (from torch>=1.11.0->sentence-transformers) (11.2.1.3)\n",
      "Requirement already satisfied: nvidia-curand-cu12==10.3.5.147 in /usr/local/lib/python3.11/dist-packages (from torch>=1.11.0->sentence-transformers) (10.3.5.147)\n",
      "Requirement already satisfied: nvidia-cusolver-cu12==11.6.1.9 in /usr/local/lib/python3.11/dist-packages (from torch>=1.11.0->sentence-transformers) (11.6.1.9)\n",
      "Requirement already satisfied: nvidia-cusparse-cu12==12.3.1.170 in /usr/local/lib/python3.11/dist-packages (from torch>=1.11.0->sentence-transformers) (12.3.1.170)\n",
      "Requirement already satisfied: nvidia-cusparselt-cu12==0.6.2 in /usr/local/lib/python3.11/dist-packages (from torch>=1.11.0->sentence-transformers) (0.6.2)\n",
      "Requirement already satisfied: nvidia-nccl-cu12==2.21.5 in /usr/local/lib/python3.11/dist-packages (from torch>=1.11.0->sentence-transformers) (2.21.5)\n",
      "Requirement already satisfied: nvidia-nvtx-cu12==12.4.127 in /usr/local/lib/python3.11/dist-packages (from torch>=1.11.0->sentence-transformers) (12.4.127)\n",
      "Requirement already satisfied: nvidia-nvjitlink-cu12==12.4.127 in /usr/local/lib/python3.11/dist-packages (from torch>=1.11.0->sentence-transformers) (12.4.127)\n",
      "Requirement already satisfied: triton==3.2.0 in /usr/local/lib/python3.11/dist-packages (from torch>=1.11.0->sentence-transformers) (3.2.0)\n",
      "Requirement already satisfied: mpmath<1.4,>=1.1.0 in /usr/local/lib/python3.11/dist-packages (from sympy->onnxruntime>=1.14.1->chromadb) (1.3.0)\n",
      "Requirement already satisfied: click>=8.0.0 in /usr/local/lib/python3.11/dist-packages (from typer>=0.9.0->chromadb) (8.2.1)\n",
      "Requirement already satisfied: shellingham>=1.3.0 in /usr/local/lib/python3.11/dist-packages (from typer>=0.9.0->chromadb) (1.5.4)\n",
      "Requirement already satisfied: python-multipart in /usr/local/lib/python3.11/dist-packages (from unstructured-inference>=1.0.5->unstructured[pdf]) (0.0.20)\n",
      "Requirement already satisfied: opencv-python!=4.7.0.68 in /usr/local/lib/python3.11/dist-packages (from unstructured-inference>=1.0.5->unstructured[pdf]) (4.12.0.88)\n",
      "Requirement already satisfied: matplotlib in /usr/local/lib/python3.11/dist-packages (from unstructured-inference>=1.0.5->unstructured[pdf]) (3.10.0)\n",
      "Requirement already satisfied: timm in /usr/local/lib/python3.11/dist-packages (from unstructured-inference>=1.0.5->unstructured[pdf]) (1.0.19)\n",
      "Requirement already satisfied: accelerate in /usr/local/lib/python3.11/dist-packages (from unstructured-inference>=1.0.5->unstructured[pdf]) (1.9.0)\n",
      "Requirement already satisfied: pandas in /usr/local/lib/python3.11/dist-packages (from unstructured-inference>=1.0.5->unstructured[pdf]) (2.2.2)\n",
      "Requirement already satisfied: pypdfium2 in /usr/local/lib/python3.11/dist-packages (from unstructured-inference>=1.0.5->unstructured[pdf]) (4.30.0)\n",
      "Requirement already satisfied: httptools>=0.6.3 in /usr/local/lib/python3.11/dist-packages (from uvicorn[standard]>=0.18.3->chromadb) (0.6.4)\n",
      "Requirement already satisfied: uvloop>=0.15.1 in /usr/local/lib/python3.11/dist-packages (from uvicorn[standard]>=0.18.3->chromadb) (0.21.0)\n",
      "Requirement already satisfied: watchfiles>=0.13 in /usr/local/lib/python3.11/dist-packages (from uvicorn[standard]>=0.18.3->chromadb) (1.1.0)\n",
      "Requirement already satisfied: websockets>=10.4 in /usr/local/lib/python3.11/dist-packages (from uvicorn[standard]>=0.18.3->chromadb) (15.0.1)\n",
      "Requirement already satisfied: soupsieve>1.2 in /usr/local/lib/python3.11/dist-packages (from beautifulsoup4->unstructured) (2.7)\n",
      "Requirement already satisfied: torchvision in /usr/local/lib/python3.11/dist-packages (from effdet->unstructured[pdf]) (0.21.0+cu124)\n",
      "Requirement already satisfied: pycocotools>=2.0.2 in /usr/local/lib/python3.11/dist-packages (from effdet->unstructured[pdf]) (2.0.10)\n",
      "Requirement already satisfied: omegaconf>=2.0 in /usr/local/lib/python3.11/dist-packages (from effdet->unstructured[pdf]) (2.3.0)\n",
      "Requirement already satisfied: google-api-core!=2.0.*,!=2.1.*,!=2.10.*,!=2.2.*,!=2.3.*,!=2.4.*,!=2.5.*,!=2.6.*,!=2.7.*,!=2.8.*,!=2.9.*,<3.0.0,>=1.34.1 in /usr/local/lib/python3.11/dist-packages (from google-api-core[grpc]!=2.0.*,!=2.1.*,!=2.10.*,!=2.2.*,!=2.3.*,!=2.4.*,!=2.5.*,!=2.6.*,!=2.7.*,!=2.8.*,!=2.9.*,<3.0.0,>=1.34.1->google-cloud-vision->unstructured[pdf]) (2.25.1)\n",
      "Requirement already satisfied: proto-plus<2.0.0,>=1.22.3 in /usr/local/lib/python3.11/dist-packages (from google-cloud-vision->unstructured[pdf]) (1.26.1)\n",
      "Requirement already satisfied: webencodings in /usr/local/lib/python3.11/dist-packages (from html5lib->unstructured) (0.5.1)\n",
      "Requirement already satisfied: joblib in /usr/local/lib/python3.11/dist-packages (from nltk->unstructured) (1.5.1)\n",
      "Requirement already satisfied: cryptography>=36.0.0 in /usr/local/lib/python3.11/dist-packages (from pdfminer.six->unstructured[pdf]) (43.0.3)\n",
      "Requirement already satisfied: Deprecated in /usr/local/lib/python3.11/dist-packages (from pikepdf->unstructured[pdf]) (1.2.18)\n",
      "Requirement already satisfied: olefile in /usr/local/lib/python3.11/dist-packages (from python-oxmsg->unstructured) (0.47)\n",
      "Requirement already satisfied: threadpoolctl>=3.1.0 in /usr/local/lib/python3.11/dist-packages (from scikit-learn->sentence-transformers) (3.6.0)\n",
      "Requirement already satisfied: aiofiles>=24.1.0 in /usr/local/lib/python3.11/dist-packages (from unstructured-client->unstructured) (24.1.0)\n",
      "Requirement already satisfied: nest-asyncio>=1.6.0 in /usr/local/lib/python3.11/dist-packages (from unstructured-client->unstructured) (1.6.0)\n",
      "Requirement already satisfied: cffi>=1.12 in /usr/local/lib/python3.11/dist-packages (from cryptography>=36.0.0->pdfminer.six->unstructured[pdf]) (1.17.1)\n",
      "Requirement already satisfied: grpcio-status<2.0.0,>=1.33.2 in /usr/local/lib/python3.11/dist-packages (from google-api-core[grpc]!=2.0.*,!=2.1.*,!=2.10.*,!=2.2.*,!=2.3.*,!=2.4.*,!=2.5.*,!=2.6.*,!=2.7.*,!=2.8.*,!=2.9.*,<3.0.0,>=1.34.1->google-cloud-vision->unstructured[pdf]) (1.71.2)\n",
      "Requirement already satisfied: cachetools<6.0,>=2.0.0 in /usr/local/lib/python3.11/dist-packages (from google-auth>=1.0.1->kubernetes>=28.1.0->chromadb) (5.5.2)\n",
      "Requirement already satisfied: pyasn1-modules>=0.2.1 in /usr/local/lib/python3.11/dist-packages (from google-auth>=1.0.1->kubernetes>=28.1.0->chromadb) (0.4.2)\n",
      "Requirement already satisfied: rsa<5,>=3.1.4 in /usr/local/lib/python3.11/dist-packages (from google-auth>=1.0.1->kubernetes>=28.1.0->chromadb) (4.9.1)\n",
      "Requirement already satisfied: zipp>=3.20 in /usr/local/lib/python3.11/dist-packages (from importlib-metadata<8.8.0,>=6.0->opentelemetry-api>=1.2.0->chromadb) (3.23.0)\n",
      "Requirement already satisfied: jsonpointer>=1.9 in /usr/local/lib/python3.11/dist-packages (from jsonpatch<2.0,>=1.33->langchain-core<1.0.0,>=0.3.72->langchain) (3.0.0)\n",
      "Requirement already satisfied: mdurl~=0.1 in /usr/local/lib/python3.11/dist-packages (from markdown-it-py>=2.2.0->rich>=10.11.0->chromadb) (0.1.2)\n",
      "Requirement already satisfied: antlr4-python3-runtime==4.9.* in /usr/local/lib/python3.11/dist-packages (from omegaconf>=2.0->effdet->unstructured[pdf]) (4.9.3)\n",
      "Requirement already satisfied: mypy-extensions>=0.3.0 in /usr/local/lib/python3.11/dist-packages (from typing-inspect<1,>=0.4.0->dataclasses-json<0.7,>=0.5.7->langchain-community) (1.1.0)\n",
      "Requirement already satisfied: humanfriendly>=9.1 in /usr/local/lib/python3.11/dist-packages (from coloredlogs->onnxruntime>=1.14.1->chromadb) (10.0)\n",
      "Requirement already satisfied: MarkupSafe>=2.0 in /usr/local/lib/python3.11/dist-packages (from jinja2->torch>=1.11.0->sentence-transformers) (3.0.2)\n",
      "Requirement already satisfied: contourpy>=1.0.1 in /usr/local/lib/python3.11/dist-packages (from matplotlib->unstructured-inference>=1.0.5->unstructured[pdf]) (1.3.2)\n",
      "Requirement already satisfied: cycler>=0.10 in /usr/local/lib/python3.11/dist-packages (from matplotlib->unstructured-inference>=1.0.5->unstructured[pdf]) (0.12.1)\n",
      "Requirement already satisfied: fonttools>=4.22.0 in /usr/local/lib/python3.11/dist-packages (from matplotlib->unstructured-inference>=1.0.5->unstructured[pdf]) (4.59.0)\n",
      "Requirement already satisfied: kiwisolver>=1.3.1 in /usr/local/lib/python3.11/dist-packages (from matplotlib->unstructured-inference>=1.0.5->unstructured[pdf]) (1.4.8)\n",
      "Requirement already satisfied: pyparsing>=2.3.1 in /usr/local/lib/python3.11/dist-packages (from matplotlib->unstructured-inference>=1.0.5->unstructured[pdf]) (3.2.3)\n",
      "Requirement already satisfied: pytz>=2020.1 in /usr/local/lib/python3.11/dist-packages (from pandas->unstructured-inference>=1.0.5->unstructured[pdf]) (2025.2)\n",
      "Requirement already satisfied: tzdata>=2022.7 in /usr/local/lib/python3.11/dist-packages (from pandas->unstructured-inference>=1.0.5->unstructured[pdf]) (2025.2)\n",
      "Requirement already satisfied: pycparser in /usr/local/lib/python3.11/dist-packages (from cffi>=1.12->cryptography>=36.0.0->pdfminer.six->unstructured[pdf]) (2.22)\n",
      "Requirement already satisfied: pyasn1<0.7.0,>=0.6.1 in /usr/local/lib/python3.11/dist-packages (from pyasn1-modules>=0.2.1->google-auth>=1.0.1->kubernetes>=28.1.0->chromadb) (0.6.1)\n"
     ]
    }
   ],
   "source": [
    "!pip install -U chromadb langchain langchain-groq langchain-community \\\n",
    "    langchain-chroma langchain-text-splitters transformers \\\n",
    "    sentence-transformers unstructured \"unstructured[pdf]\""
   ]
  },
  {
   "cell_type": "markdown",
   "metadata": {},
   "source": [
    "## Install Poppler Utilities"
   ]
  },
  {
   "cell_type": "code",
   "execution_count": 5,
   "metadata": {
    "colab": {
     "base_uri": "https://localhost:8080/"
    },
    "id": "O7W1GgLCO8Oj",
    "outputId": "30ccea7b-408f-405d-9e51-ca97ea29a81b"
   },
   "outputs": [
    {
     "name": "stdout",
     "output_type": "stream",
     "text": [
      "Reading package lists... Done\n",
      "Building dependency tree... Done\n",
      "Reading state information... Done\n",
      "poppler-utils is already the newest version (22.02.0-2ubuntu0.8).\n",
      "0 upgraded, 0 newly installed, 0 to remove and 35 not upgraded.\n"
     ]
    }
   ],
   "source": [
    "!apt-get install poppler-utils"
   ]
  },
  {
   "cell_type": "markdown",
   "metadata": {},
   "source": [
    "## Import Neccesary Modules for LLM Pipeline"
   ]
  },
  {
   "cell_type": "code",
   "execution_count": 6,
   "metadata": {
    "id": "m-tzr7HFO8Ry"
   },
   "outputs": [],
   "source": [
    "import os\n",
    "\n",
    "from langchain.document_loaders import UnstructuredFileLoader\n",
    "from langchain_text_splitters import CharacterTextSplitter\n",
    "from langchain_community.embeddings import HuggingFaceEmbeddings\n",
    "from langchain_chroma import Chroma\n",
    "from langchain_groq import ChatGroq\n",
    "from langchain.chains import RetrievalQA"
   ]
  },
  {
   "cell_type": "markdown",
   "metadata": {},
   "source": [
    "## Upgrade Unstructured Package for Local Inference"
   ]
  },
  {
   "cell_type": "code",
   "execution_count": 7,
   "metadata": {
    "colab": {
     "base_uri": "https://localhost:8080/"
    },
    "id": "kl62RP7-O8Ts",
    "outputId": "d8ec28bd-a839-47df-f9a2-341030df453d"
   },
   "outputs": [
    {
     "name": "stdout",
     "output_type": "stream",
     "text": [
      "Requirement already satisfied: unstructured[local-inference] in /usr/local/lib/python3.11/dist-packages (0.18.11)\n",
      "Requirement already satisfied: charset-normalizer in /usr/local/lib/python3.11/dist-packages (from unstructured[local-inference]) (3.4.2)\n",
      "Requirement already satisfied: filetype in /usr/local/lib/python3.11/dist-packages (from unstructured[local-inference]) (1.2.0)\n",
      "Requirement already satisfied: python-magic in /usr/local/lib/python3.11/dist-packages (from unstructured[local-inference]) (0.4.27)\n",
      "Requirement already satisfied: lxml in /usr/local/lib/python3.11/dist-packages (from unstructured[local-inference]) (5.4.0)\n",
      "Requirement already satisfied: nltk in /usr/local/lib/python3.11/dist-packages (from unstructured[local-inference]) (3.9.1)\n",
      "Requirement already satisfied: requests in /usr/local/lib/python3.11/dist-packages (from unstructured[local-inference]) (2.32.3)\n",
      "Requirement already satisfied: beautifulsoup4 in /usr/local/lib/python3.11/dist-packages (from unstructured[local-inference]) (4.13.4)\n",
      "Requirement already satisfied: emoji in /usr/local/lib/python3.11/dist-packages (from unstructured[local-inference]) (2.14.1)\n",
      "Requirement already satisfied: dataclasses-json in /usr/local/lib/python3.11/dist-packages (from unstructured[local-inference]) (0.6.7)\n",
      "Requirement already satisfied: python-iso639 in /usr/local/lib/python3.11/dist-packages (from unstructured[local-inference]) (2025.2.18)\n",
      "Requirement already satisfied: langdetect in /usr/local/lib/python3.11/dist-packages (from unstructured[local-inference]) (1.0.9)\n",
      "Requirement already satisfied: numpy in /usr/local/lib/python3.11/dist-packages (from unstructured[local-inference]) (2.0.2)\n",
      "Requirement already satisfied: rapidfuzz in /usr/local/lib/python3.11/dist-packages (from unstructured[local-inference]) (3.13.0)\n",
      "Requirement already satisfied: backoff in /usr/local/lib/python3.11/dist-packages (from unstructured[local-inference]) (2.2.1)\n",
      "Requirement already satisfied: typing-extensions in /usr/local/lib/python3.11/dist-packages (from unstructured[local-inference]) (4.14.1)\n",
      "Requirement already satisfied: unstructured-client in /usr/local/lib/python3.11/dist-packages (from unstructured[local-inference]) (0.41.0)\n",
      "Requirement already satisfied: wrapt in /usr/local/lib/python3.11/dist-packages (from unstructured[local-inference]) (1.17.2)\n",
      "Requirement already satisfied: tqdm in /usr/local/lib/python3.11/dist-packages (from unstructured[local-inference]) (4.67.1)\n",
      "Requirement already satisfied: psutil in /usr/local/lib/python3.11/dist-packages (from unstructured[local-inference]) (5.9.5)\n",
      "Requirement already satisfied: python-oxmsg in /usr/local/lib/python3.11/dist-packages (from unstructured[local-inference]) (0.0.2)\n",
      "Requirement already satisfied: html5lib in /usr/local/lib/python3.11/dist-packages (from unstructured[local-inference]) (1.1)\n",
      "Requirement already satisfied: effdet in /usr/local/lib/python3.11/dist-packages (from unstructured[local-inference]) (0.4.1)\n",
      "Requirement already satisfied: onnxruntime>=1.19.0 in /usr/local/lib/python3.11/dist-packages (from unstructured[local-inference]) (1.22.1)\n",
      "Requirement already satisfied: unstructured.pytesseract>=0.3.12 in /usr/local/lib/python3.11/dist-packages (from unstructured[local-inference]) (0.3.15)\n",
      "Requirement already satisfied: pypandoc in /usr/local/lib/python3.11/dist-packages (from unstructured[local-inference]) (1.15)\n",
      "Requirement already satisfied: pdf2image in /usr/local/lib/python3.11/dist-packages (from unstructured[local-inference]) (1.17.0)\n",
      "Requirement already satisfied: pandas in /usr/local/lib/python3.11/dist-packages (from unstructured[local-inference]) (2.2.2)\n",
      "Requirement already satisfied: unstructured-inference>=1.0.5 in /usr/local/lib/python3.11/dist-packages (from unstructured[local-inference]) (1.0.5)\n",
      "Requirement already satisfied: xlrd in /usr/local/lib/python3.11/dist-packages (from unstructured[local-inference]) (2.0.2)\n",
      "Requirement already satisfied: pi-heif in /usr/local/lib/python3.11/dist-packages (from unstructured[local-inference]) (1.0.0)\n",
      "Requirement already satisfied: google-cloud-vision in /usr/local/lib/python3.11/dist-packages (from unstructured[local-inference]) (3.10.2)\n",
      "Requirement already satisfied: python-docx>=1.1.2 in /usr/local/lib/python3.11/dist-packages (from unstructured[local-inference]) (1.2.0)\n",
      "Requirement already satisfied: onnx>=1.17.0 in /usr/local/lib/python3.11/dist-packages (from unstructured[local-inference]) (1.18.0)\n",
      "Requirement already satisfied: markdown in /usr/local/lib/python3.11/dist-packages (from unstructured[local-inference]) (3.8.2)\n",
      "Requirement already satisfied: python-pptx>=1.0.1 in /usr/local/lib/python3.11/dist-packages (from unstructured[local-inference]) (1.0.2)\n",
      "Requirement already satisfied: networkx in /usr/local/lib/python3.11/dist-packages (from unstructured[local-inference]) (3.5)\n",
      "Requirement already satisfied: pypdf in /usr/local/lib/python3.11/dist-packages (from unstructured[local-inference]) (5.9.0)\n",
      "Requirement already satisfied: pikepdf in /usr/local/lib/python3.11/dist-packages (from unstructured[local-inference]) (9.10.2)\n",
      "Requirement already satisfied: openpyxl in /usr/local/lib/python3.11/dist-packages (from unstructured[local-inference]) (3.1.5)\n",
      "Requirement already satisfied: msoffcrypto-tool in /usr/local/lib/python3.11/dist-packages (from unstructured[local-inference]) (5.4.2)\n",
      "Requirement already satisfied: pdfminer.six in /usr/local/lib/python3.11/dist-packages (from unstructured[local-inference]) (20250506)\n",
      "Requirement already satisfied: protobuf>=4.25.1 in /usr/local/lib/python3.11/dist-packages (from onnx>=1.17.0->unstructured[local-inference]) (5.29.5)\n",
      "Requirement already satisfied: coloredlogs in /usr/local/lib/python3.11/dist-packages (from onnxruntime>=1.19.0->unstructured[local-inference]) (15.0.1)\n",
      "Requirement already satisfied: flatbuffers in /usr/local/lib/python3.11/dist-packages (from onnxruntime>=1.19.0->unstructured[local-inference]) (25.2.10)\n",
      "Requirement already satisfied: packaging in /usr/local/lib/python3.11/dist-packages (from onnxruntime>=1.19.0->unstructured[local-inference]) (25.0)\n",
      "Requirement already satisfied: sympy in /usr/local/lib/python3.11/dist-packages (from onnxruntime>=1.19.0->unstructured[local-inference]) (1.13.1)\n",
      "Requirement already satisfied: Pillow>=3.3.2 in /usr/local/lib/python3.11/dist-packages (from python-pptx>=1.0.1->unstructured[local-inference]) (11.3.0)\n",
      "Requirement already satisfied: XlsxWriter>=0.5.7 in /usr/local/lib/python3.11/dist-packages (from python-pptx>=1.0.1->unstructured[local-inference]) (3.2.5)\n",
      "Requirement already satisfied: python-multipart in /usr/local/lib/python3.11/dist-packages (from unstructured-inference>=1.0.5->unstructured[local-inference]) (0.0.20)\n",
      "Requirement already satisfied: huggingface-hub in /usr/local/lib/python3.11/dist-packages (from unstructured-inference>=1.0.5->unstructured[local-inference]) (0.34.3)\n",
      "Requirement already satisfied: opencv-python!=4.7.0.68 in /usr/local/lib/python3.11/dist-packages (from unstructured-inference>=1.0.5->unstructured[local-inference]) (4.12.0.88)\n",
      "Requirement already satisfied: matplotlib in /usr/local/lib/python3.11/dist-packages (from unstructured-inference>=1.0.5->unstructured[local-inference]) (3.10.0)\n",
      "Requirement already satisfied: torch in /usr/local/lib/python3.11/dist-packages (from unstructured-inference>=1.0.5->unstructured[local-inference]) (2.6.0+cu124)\n",
      "Requirement already satisfied: timm in /usr/local/lib/python3.11/dist-packages (from unstructured-inference>=1.0.5->unstructured[local-inference]) (1.0.19)\n",
      "Requirement already satisfied: transformers>=4.25.1 in /usr/local/lib/python3.11/dist-packages (from unstructured-inference>=1.0.5->unstructured[local-inference]) (4.54.0)\n",
      "Requirement already satisfied: accelerate in /usr/local/lib/python3.11/dist-packages (from unstructured-inference>=1.0.5->unstructured[local-inference]) (1.9.0)\n",
      "Requirement already satisfied: scipy in /usr/local/lib/python3.11/dist-packages (from unstructured-inference>=1.0.5->unstructured[local-inference]) (1.16.0)\n",
      "Requirement already satisfied: pypdfium2 in /usr/local/lib/python3.11/dist-packages (from unstructured-inference>=1.0.5->unstructured[local-inference]) (4.30.0)\n",
      "Requirement already satisfied: soupsieve>1.2 in /usr/local/lib/python3.11/dist-packages (from beautifulsoup4->unstructured[local-inference]) (2.7)\n",
      "Requirement already satisfied: marshmallow<4.0.0,>=3.18.0 in /usr/local/lib/python3.11/dist-packages (from dataclasses-json->unstructured[local-inference]) (3.26.1)\n",
      "Requirement already satisfied: typing-inspect<1,>=0.4.0 in /usr/local/lib/python3.11/dist-packages (from dataclasses-json->unstructured[local-inference]) (0.9.0)\n",
      "Requirement already satisfied: torchvision in /usr/local/lib/python3.11/dist-packages (from effdet->unstructured[local-inference]) (0.21.0+cu124)\n",
      "Requirement already satisfied: pycocotools>=2.0.2 in /usr/local/lib/python3.11/dist-packages (from effdet->unstructured[local-inference]) (2.0.10)\n",
      "Requirement already satisfied: omegaconf>=2.0 in /usr/local/lib/python3.11/dist-packages (from effdet->unstructured[local-inference]) (2.3.0)\n",
      "Requirement already satisfied: google-api-core!=2.0.*,!=2.1.*,!=2.10.*,!=2.2.*,!=2.3.*,!=2.4.*,!=2.5.*,!=2.6.*,!=2.7.*,!=2.8.*,!=2.9.*,<3.0.0,>=1.34.1 in /usr/local/lib/python3.11/dist-packages (from google-api-core[grpc]!=2.0.*,!=2.1.*,!=2.10.*,!=2.2.*,!=2.3.*,!=2.4.*,!=2.5.*,!=2.6.*,!=2.7.*,!=2.8.*,!=2.9.*,<3.0.0,>=1.34.1->google-cloud-vision->unstructured[local-inference]) (2.25.1)\n",
      "Requirement already satisfied: google-auth!=2.24.0,!=2.25.0,<3.0.0,>=2.14.1 in /usr/local/lib/python3.11/dist-packages (from google-cloud-vision->unstructured[local-inference]) (2.38.0)\n",
      "Requirement already satisfied: proto-plus<2.0.0,>=1.22.3 in /usr/local/lib/python3.11/dist-packages (from google-cloud-vision->unstructured[local-inference]) (1.26.1)\n",
      "Requirement already satisfied: six>=1.9 in /usr/local/lib/python3.11/dist-packages (from html5lib->unstructured[local-inference]) (1.17.0)\n",
      "Requirement already satisfied: webencodings in /usr/local/lib/python3.11/dist-packages (from html5lib->unstructured[local-inference]) (0.5.1)\n",
      "Requirement already satisfied: cryptography>=39.0 in /usr/local/lib/python3.11/dist-packages (from msoffcrypto-tool->unstructured[local-inference]) (43.0.3)\n",
      "Requirement already satisfied: olefile>=0.46 in /usr/local/lib/python3.11/dist-packages (from msoffcrypto-tool->unstructured[local-inference]) (0.47)\n",
      "Requirement already satisfied: click in /usr/local/lib/python3.11/dist-packages (from nltk->unstructured[local-inference]) (8.2.1)\n",
      "Requirement already satisfied: joblib in /usr/local/lib/python3.11/dist-packages (from nltk->unstructured[local-inference]) (1.5.1)\n",
      "Requirement already satisfied: regex>=2021.8.3 in /usr/local/lib/python3.11/dist-packages (from nltk->unstructured[local-inference]) (2024.11.6)\n",
      "Requirement already satisfied: et-xmlfile in /usr/local/lib/python3.11/dist-packages (from openpyxl->unstructured[local-inference]) (2.0.0)\n",
      "Requirement already satisfied: python-dateutil>=2.8.2 in /usr/local/lib/python3.11/dist-packages (from pandas->unstructured[local-inference]) (2.9.0.post0)\n",
      "Requirement already satisfied: pytz>=2020.1 in /usr/local/lib/python3.11/dist-packages (from pandas->unstructured[local-inference]) (2025.2)\n",
      "Requirement already satisfied: tzdata>=2022.7 in /usr/local/lib/python3.11/dist-packages (from pandas->unstructured[local-inference]) (2025.2)\n",
      "Requirement already satisfied: Deprecated in /usr/local/lib/python3.11/dist-packages (from pikepdf->unstructured[local-inference]) (1.2.18)\n",
      "Requirement already satisfied: idna<4,>=2.5 in /usr/local/lib/python3.11/dist-packages (from requests->unstructured[local-inference]) (3.10)\n",
      "Requirement already satisfied: urllib3<3,>=1.21.1 in /usr/local/lib/python3.11/dist-packages (from requests->unstructured[local-inference]) (2.5.0)\n",
      "Requirement already satisfied: certifi>=2017.4.17 in /usr/local/lib/python3.11/dist-packages (from requests->unstructured[local-inference]) (2025.7.14)\n",
      "Requirement already satisfied: aiofiles>=24.1.0 in /usr/local/lib/python3.11/dist-packages (from unstructured-client->unstructured[local-inference]) (24.1.0)\n",
      "Requirement already satisfied: httpcore>=1.0.9 in /usr/local/lib/python3.11/dist-packages (from unstructured-client->unstructured[local-inference]) (1.0.9)\n",
      "Requirement already satisfied: httpx>=0.27.0 in /usr/local/lib/python3.11/dist-packages (from unstructured-client->unstructured[local-inference]) (0.28.1)\n",
      "Requirement already satisfied: nest-asyncio>=1.6.0 in /usr/local/lib/python3.11/dist-packages (from unstructured-client->unstructured[local-inference]) (1.6.0)\n",
      "Requirement already satisfied: pydantic>=2.11.2 in /usr/local/lib/python3.11/dist-packages (from unstructured-client->unstructured[local-inference]) (2.11.7)\n",
      "Requirement already satisfied: requests-toolbelt>=1.0.0 in /usr/local/lib/python3.11/dist-packages (from unstructured-client->unstructured[local-inference]) (1.0.0)\n",
      "Requirement already satisfied: cffi>=1.12 in /usr/local/lib/python3.11/dist-packages (from cryptography>=39.0->msoffcrypto-tool->unstructured[local-inference]) (1.17.1)\n",
      "Requirement already satisfied: googleapis-common-protos<2.0.0,>=1.56.2 in /usr/local/lib/python3.11/dist-packages (from google-api-core!=2.0.*,!=2.1.*,!=2.10.*,!=2.2.*,!=2.3.*,!=2.4.*,!=2.5.*,!=2.6.*,!=2.7.*,!=2.8.*,!=2.9.*,<3.0.0,>=1.34.1->google-api-core[grpc]!=2.0.*,!=2.1.*,!=2.10.*,!=2.2.*,!=2.3.*,!=2.4.*,!=2.5.*,!=2.6.*,!=2.7.*,!=2.8.*,!=2.9.*,<3.0.0,>=1.34.1->google-cloud-vision->unstructured[local-inference]) (1.70.0)\n",
      "Requirement already satisfied: grpcio<2.0.0,>=1.33.2 in /usr/local/lib/python3.11/dist-packages (from google-api-core[grpc]!=2.0.*,!=2.1.*,!=2.10.*,!=2.2.*,!=2.3.*,!=2.4.*,!=2.5.*,!=2.6.*,!=2.7.*,!=2.8.*,!=2.9.*,<3.0.0,>=1.34.1->google-cloud-vision->unstructured[local-inference]) (1.74.0)\n",
      "Requirement already satisfied: grpcio-status<2.0.0,>=1.33.2 in /usr/local/lib/python3.11/dist-packages (from google-api-core[grpc]!=2.0.*,!=2.1.*,!=2.10.*,!=2.2.*,!=2.3.*,!=2.4.*,!=2.5.*,!=2.6.*,!=2.7.*,!=2.8.*,!=2.9.*,<3.0.0,>=1.34.1->google-cloud-vision->unstructured[local-inference]) (1.71.2)\n",
      "Requirement already satisfied: cachetools<6.0,>=2.0.0 in /usr/local/lib/python3.11/dist-packages (from google-auth!=2.24.0,!=2.25.0,<3.0.0,>=2.14.1->google-cloud-vision->unstructured[local-inference]) (5.5.2)\n",
      "Requirement already satisfied: pyasn1-modules>=0.2.1 in /usr/local/lib/python3.11/dist-packages (from google-auth!=2.24.0,!=2.25.0,<3.0.0,>=2.14.1->google-cloud-vision->unstructured[local-inference]) (0.4.2)\n",
      "Requirement already satisfied: rsa<5,>=3.1.4 in /usr/local/lib/python3.11/dist-packages (from google-auth!=2.24.0,!=2.25.0,<3.0.0,>=2.14.1->google-cloud-vision->unstructured[local-inference]) (4.9.1)\n",
      "Requirement already satisfied: h11>=0.16 in /usr/local/lib/python3.11/dist-packages (from httpcore>=1.0.9->unstructured-client->unstructured[local-inference]) (0.16.0)\n",
      "Requirement already satisfied: anyio in /usr/local/lib/python3.11/dist-packages (from httpx>=0.27.0->unstructured-client->unstructured[local-inference]) (4.9.0)\n",
      "Requirement already satisfied: antlr4-python3-runtime==4.9.* in /usr/local/lib/python3.11/dist-packages (from omegaconf>=2.0->effdet->unstructured[local-inference]) (4.9.3)\n",
      "Requirement already satisfied: PyYAML>=5.1.0 in /usr/local/lib/python3.11/dist-packages (from omegaconf>=2.0->effdet->unstructured[local-inference]) (6.0.2)\n",
      "Requirement already satisfied: annotated-types>=0.6.0 in /usr/local/lib/python3.11/dist-packages (from pydantic>=2.11.2->unstructured-client->unstructured[local-inference]) (0.7.0)\n",
      "Requirement already satisfied: pydantic-core==2.33.2 in /usr/local/lib/python3.11/dist-packages (from pydantic>=2.11.2->unstructured-client->unstructured[local-inference]) (2.33.2)\n",
      "Requirement already satisfied: typing-inspection>=0.4.0 in /usr/local/lib/python3.11/dist-packages (from pydantic>=2.11.2->unstructured-client->unstructured[local-inference]) (0.4.1)\n",
      "Requirement already satisfied: safetensors in /usr/local/lib/python3.11/dist-packages (from timm->unstructured-inference>=1.0.5->unstructured[local-inference]) (0.5.3)\n",
      "Requirement already satisfied: filelock in /usr/local/lib/python3.11/dist-packages (from torch->unstructured-inference>=1.0.5->unstructured[local-inference]) (3.18.0)\n",
      "Requirement already satisfied: jinja2 in /usr/local/lib/python3.11/dist-packages (from torch->unstructured-inference>=1.0.5->unstructured[local-inference]) (3.1.6)\n",
      "Requirement already satisfied: fsspec in /usr/local/lib/python3.11/dist-packages (from torch->unstructured-inference>=1.0.5->unstructured[local-inference]) (2025.3.0)\n",
      "Requirement already satisfied: nvidia-cuda-nvrtc-cu12==12.4.127 in /usr/local/lib/python3.11/dist-packages (from torch->unstructured-inference>=1.0.5->unstructured[local-inference]) (12.4.127)\n",
      "Requirement already satisfied: nvidia-cuda-runtime-cu12==12.4.127 in /usr/local/lib/python3.11/dist-packages (from torch->unstructured-inference>=1.0.5->unstructured[local-inference]) (12.4.127)\n",
      "Requirement already satisfied: nvidia-cuda-cupti-cu12==12.4.127 in /usr/local/lib/python3.11/dist-packages (from torch->unstructured-inference>=1.0.5->unstructured[local-inference]) (12.4.127)\n",
      "Requirement already satisfied: nvidia-cudnn-cu12==9.1.0.70 in /usr/local/lib/python3.11/dist-packages (from torch->unstructured-inference>=1.0.5->unstructured[local-inference]) (9.1.0.70)\n",
      "Requirement already satisfied: nvidia-cublas-cu12==12.4.5.8 in /usr/local/lib/python3.11/dist-packages (from torch->unstructured-inference>=1.0.5->unstructured[local-inference]) (12.4.5.8)\n",
      "Requirement already satisfied: nvidia-cufft-cu12==11.2.1.3 in /usr/local/lib/python3.11/dist-packages (from torch->unstructured-inference>=1.0.5->unstructured[local-inference]) (11.2.1.3)\n",
      "Requirement already satisfied: nvidia-curand-cu12==10.3.5.147 in /usr/local/lib/python3.11/dist-packages (from torch->unstructured-inference>=1.0.5->unstructured[local-inference]) (10.3.5.147)\n",
      "Requirement already satisfied: nvidia-cusolver-cu12==11.6.1.9 in /usr/local/lib/python3.11/dist-packages (from torch->unstructured-inference>=1.0.5->unstructured[local-inference]) (11.6.1.9)\n",
      "Requirement already satisfied: nvidia-cusparse-cu12==12.3.1.170 in /usr/local/lib/python3.11/dist-packages (from torch->unstructured-inference>=1.0.5->unstructured[local-inference]) (12.3.1.170)\n",
      "Requirement already satisfied: nvidia-cusparselt-cu12==0.6.2 in /usr/local/lib/python3.11/dist-packages (from torch->unstructured-inference>=1.0.5->unstructured[local-inference]) (0.6.2)\n",
      "Requirement already satisfied: nvidia-nccl-cu12==2.21.5 in /usr/local/lib/python3.11/dist-packages (from torch->unstructured-inference>=1.0.5->unstructured[local-inference]) (2.21.5)\n",
      "Requirement already satisfied: nvidia-nvtx-cu12==12.4.127 in /usr/local/lib/python3.11/dist-packages (from torch->unstructured-inference>=1.0.5->unstructured[local-inference]) (12.4.127)\n",
      "Requirement already satisfied: nvidia-nvjitlink-cu12==12.4.127 in /usr/local/lib/python3.11/dist-packages (from torch->unstructured-inference>=1.0.5->unstructured[local-inference]) (12.4.127)\n",
      "Requirement already satisfied: triton==3.2.0 in /usr/local/lib/python3.11/dist-packages (from torch->unstructured-inference>=1.0.5->unstructured[local-inference]) (3.2.0)\n",
      "Requirement already satisfied: mpmath<1.4,>=1.1.0 in /usr/local/lib/python3.11/dist-packages (from sympy->onnxruntime>=1.19.0->unstructured[local-inference]) (1.3.0)\n",
      "Requirement already satisfied: tokenizers<0.22,>=0.21 in /usr/local/lib/python3.11/dist-packages (from transformers>=4.25.1->unstructured-inference>=1.0.5->unstructured[local-inference]) (0.21.2)\n",
      "Requirement already satisfied: hf-xet<2.0.0,>=1.1.3 in /usr/local/lib/python3.11/dist-packages (from huggingface-hub->unstructured-inference>=1.0.5->unstructured[local-inference]) (1.1.5)\n",
      "Requirement already satisfied: mypy-extensions>=0.3.0 in /usr/local/lib/python3.11/dist-packages (from typing-inspect<1,>=0.4.0->dataclasses-json->unstructured[local-inference]) (1.1.0)\n",
      "Requirement already satisfied: humanfriendly>=9.1 in /usr/local/lib/python3.11/dist-packages (from coloredlogs->onnxruntime>=1.19.0->unstructured[local-inference]) (10.0)\n",
      "Requirement already satisfied: contourpy>=1.0.1 in /usr/local/lib/python3.11/dist-packages (from matplotlib->unstructured-inference>=1.0.5->unstructured[local-inference]) (1.3.2)\n",
      "Requirement already satisfied: cycler>=0.10 in /usr/local/lib/python3.11/dist-packages (from matplotlib->unstructured-inference>=1.0.5->unstructured[local-inference]) (0.12.1)\n",
      "Requirement already satisfied: fonttools>=4.22.0 in /usr/local/lib/python3.11/dist-packages (from matplotlib->unstructured-inference>=1.0.5->unstructured[local-inference]) (4.59.0)\n",
      "Requirement already satisfied: kiwisolver>=1.3.1 in /usr/local/lib/python3.11/dist-packages (from matplotlib->unstructured-inference>=1.0.5->unstructured[local-inference]) (1.4.8)\n",
      "Requirement already satisfied: pyparsing>=2.3.1 in /usr/local/lib/python3.11/dist-packages (from matplotlib->unstructured-inference>=1.0.5->unstructured[local-inference]) (3.2.3)\n",
      "Requirement already satisfied: pycparser in /usr/local/lib/python3.11/dist-packages (from cffi>=1.12->cryptography>=39.0->msoffcrypto-tool->unstructured[local-inference]) (2.22)\n",
      "Requirement already satisfied: pyasn1<0.7.0,>=0.6.1 in /usr/local/lib/python3.11/dist-packages (from pyasn1-modules>=0.2.1->google-auth!=2.24.0,!=2.25.0,<3.0.0,>=2.14.1->google-cloud-vision->unstructured[local-inference]) (0.6.1)\n",
      "Requirement already satisfied: sniffio>=1.1 in /usr/local/lib/python3.11/dist-packages (from anyio->httpx>=0.27.0->unstructured-client->unstructured[local-inference]) (1.3.1)\n",
      "Requirement already satisfied: MarkupSafe>=2.0 in /usr/local/lib/python3.11/dist-packages (from jinja2->torch->unstructured-inference>=1.0.5->unstructured[local-inference]) (3.0.2)\n"
     ]
    }
   ],
   "source": [
    "!pip install --upgrade unstructured[local-inference]"
   ]
  },
  {
   "cell_type": "markdown",
   "metadata": {},
   "source": [
    "## Set API Key Environment Variable"
   ]
  },
  {
   "cell_type": "code",
   "execution_count": null,
   "metadata": {
    "id": "_iLqMan-O8W8"
   },
   "outputs": [],
   "source": [
    "os.environ[\"GROQ_API_KEY\"]=\"YOUR_API_KEY\""
   ]
  },
  {
   "cell_type": "markdown",
   "metadata": {},
   "source": [
    "## Download IPL Season Schedule PDF"
   ]
  },
  {
   "cell_type": "code",
   "execution_count": 9,
   "metadata": {
    "id": "svSJ5-ocUFgI"
   },
   "outputs": [],
   "source": [
    "import requests\n",
    "url=\"https://documents.iplt20.com/smart-images/1739621485265_IPL%20Season%20Schedule%202025-1.pdf\"\n",
    "\n",
    "response = requests.get(url)"
   ]
  },
  {
   "cell_type": "code",
   "execution_count": 10,
   "metadata": {
    "colab": {
     "base_uri": "https://localhost:8080/"
    },
    "id": "fkp6b1e9UFio",
    "outputId": "2cd2383e-fdde-4c8f-f3f5-7f9ea488e816"
   },
   "outputs": [
    {
     "data": {
      "text/plain": [
       "<Response [200]>"
      ]
     },
     "execution_count": 10,
     "metadata": {},
     "output_type": "execute_result"
    }
   ],
   "source": [
    "response"
   ]
  },
  {
   "cell_type": "markdown",
   "metadata": {},
   "source": [
    "##  Save PDF Locally"
   ]
  },
  {
   "cell_type": "code",
   "execution_count": 11,
   "metadata": {
    "id": "cl7BvsBmUFl3"
   },
   "outputs": [],
   "source": [
    "# Save the pdf in local file\n",
    "with open(\"IPL  Schedule Season 2025.pdf\",\"wb\")as f:\n",
    "  f.write(response.content)"
   ]
  },
  {
   "cell_type": "markdown",
   "metadata": {},
   "source": [
    "## Load PDF Document into LangChain"
   ]
  },
  {
   "cell_type": "code",
   "execution_count": 12,
   "metadata": {
    "colab": {
     "base_uri": "https://localhost:8080/"
    },
    "id": "5SpgTZF5foFL",
    "outputId": "a939008c-bc3c-478c-a005-7bfd95206bd1"
   },
   "outputs": [
    {
     "name": "stderr",
     "output_type": "stream",
     "text": [
      "WARNING:unstructured:short text: \"TITLE SPONSOR\". Defaulting to English.\n",
      "WARNING:unstructured:short text: \"2025 SEASON SCHEDULE IPLT20.COM\". Defaulting to English.\n",
      "WARNING:unstructured:short text: \"Home\". Defaulting to English.\n",
      "WARNING:unstructured:short text: \"Away\". Defaulting to English.\n",
      "WARNING:unstructured:short text: \"ASSOCIATE PARTNER\". Defaulting to English.\n",
      "WARNING:unstructured:short text: \"OFFICIAL UMPIRE PARTNER\". Defaulting to English.\n",
      "WARNING:unstructured:short text: \"OFFICIAL STRATEGIC TIMEOUT PARTNER\". Defaulting to English.\n",
      "WARNING:unstructured:short text: \"OFFICIAL BROADCASTER\". Defaulting to English.\n",
      "WARNING:unstructured:short text: \"OFFICIAL DIGITAL STREAMING PARTNER\". Defaulting to English.\n",
      "WARNING:unstructured:short text: \"Match No Match Day\". Defaulting to English.\n",
      "WARNING:unstructured:No features in text.\n",
      "WARNING:unstructured:No features in text.\n",
      "WARNING:unstructured:short text: \"TITLE SPONSOR\". Defaulting to English.\n",
      "WARNING:unstructured:short text: \"2025 SEASON SCHEDULE IPLT20.COM\". Defaulting to English.\n",
      "WARNING:unstructured:short text: \"Home\". Defaulting to English.\n",
      "WARNING:unstructured:short text: \"ASSOCIATE PARTNER\". Defaulting to English.\n",
      "WARNING:unstructured:short text: \"OFFICIAL UMPIRE PARTNER\". Defaulting to English.\n",
      "WARNING:unstructured:short text: \"OFFICIAL STRATEGIC TIMEOUT PARTNER\". Defaulting to English.\n",
      "WARNING:unstructured:short text: \"OFFICIAL BROADCASTER\". Defaulting to English.\n",
      "WARNING:unstructured:short text: \"OFFICIAL DIGITAL STREAMING PARTNER\". Defaulting to English.\n"
     ]
    },
    {
     "name": "stdout",
     "output_type": "stream",
     "text": [
      "Warning: No languages specified, defaulting to English.\n"
     ]
    },
    {
     "data": {
      "text/plain": [
       "[Document(metadata={'source': 'IPL  Schedule Season 2025.pdf'}, page_content='Match No 1 2 3 4 5 6 7 8 9 10 11 12 13 14 15 16 17 18 19 20 21 22 23 24 25 26 27 28 29 30 31 32 33 34 35 36 37\\n\\nMatch Day 1 2 2 3 4 5 6 7 8 9 9 10 11 12 13 14 15 15 16 16 17 18 19 20 21 22 22 23 23 24 25 26 27 28 29 29 30\\n\\nTITLE SPONSOR\\n\\n2025 SEASON SCHEDULE IPLT20.COM\\n\\nDate 22-Mar-25 23-Mar-25 23-Mar-25 24-Mar-25 25-Mar-25 26-Mar-25 27-Mar-25 28-Mar-25 29-Mar-25 30-Mar-25 30-Mar-25 31-Mar-25 01-Apr-25 02-Apr-25 03-Apr-25 04-Apr-25 05-Apr-25 05-Apr-25 06-Apr-25 06-Apr-25 07-Apr-25 08-Apr-25 09-Apr-25 10-Apr-25 11-Apr-25 12-Apr-25 12-Apr-25 13-Apr-25 13-Apr-25 14-Apr-25 15-Apr-25 16-Apr-25 17-Apr-25 18-Apr-25 19-Apr-25 19-Apr-25 20-Apr-25\\n\\nDay Sat Sun Sun Mon Tue Wed Thu Fri Sat Sun Sun Mon Tue Wed Thu Fri Sat Sat Sun Sun Mon Tue Wed Thu Fri Sat Sat Sun Sun Mon Tue Wed Thu Fri Sat Sat Sun\\n\\nStart 7:30 PM 3:30 PM 7:30 PM 7:30 PM 7:30 PM 7:30 PM 7:30 PM 7:30 PM 7:30 PM 3:30 PM 7:30 PM 7:30 PM 7:30 PM 7:30 PM 7:30 PM 7:30 PM 3:30 PM 7:30 PM 3:30 PM 7:30 PM 7:30 PM 7:30 PM 7:30 PM 7:30 PM 7:30 PM 3:30 PM 7:30 PM 3:30 PM 7:30 PM 7:30 PM 7:30 PM 7:30 PM 7:30 PM 7:30 PM 3:30 PM 7:30 PM 3:30 PM\\n\\nHome\\n\\nKolkata Knight Riders Sunrisers Hyderabad Chennai Super Kings Delhi Capitals Gujarat Titans Rajasthan Royals Sunrisers Hyderabad Chennai Super Kings Gujarat Titans Delhi Capitals Rajasthan Royals Mumbai Indians Lucknow Super Giants Royal Challengers Bengaluru Kolkata Knight Riders Lucknow Super Giants Chennai Super Kings Punjab Kings Kolkata Knight Riders Sunrisers Hyderabad Mumbai Indians Punjab Kings Gujarat Titans Royal Challengers Bengaluru Chennai Super Kings Lucknow Super Giants Sunrisers Hyderabad Rajasthan Royals Delhi Capitals Lucknow Super Giants Punjab Kings Delhi Capitals Mumbai Indians Royal Challengers Bengaluru Gujarat Titans Rajasthan Royals Punjab Kings\\n\\nAway\\n\\nRoyal Challengers Bengaluru Rajasthan Royals Mumbai Indians Lucknow Super Giants Punjab Kings Kolkata Knight Riders Lucknow Super Giants Royal Challengers Bengaluru Mumbai Indians Sunrisers Hyderabad Chennai Super Kings Kolkata Knight Riders Punjab Kings Gujarat Titans Sunrisers Hyderabad Mumbai Indians Delhi Capitals Rajasthan Royals Lucknow Super Giants Gujarat Titans Royal Challengers Bengaluru Chennai Super Kings Rajasthan Royals Delhi Capitals Kolkata Knight Riders Gujarat Titans Punjab Kings Royal Challengers Bengaluru Mumbai Indians Chennai Super Kings Kolkata Knight Riders Rajasthan Royals Sunrisers Hyderabad Punjab Kings Delhi Capitals Lucknow Super Giants Royal Challengers Bengaluru\\n\\nASSOCIATE PARTNER\\n\\nOFFICIAL UMPIRE PARTNER\\n\\nOFFICIAL STRATEGIC TIMEOUT PARTNER\\n\\nOFFICIAL BROADCASTER\\n\\nPlease note that this schedule may be subject to change for any reason as may be required in the sole discretion of BCCI\\n\\nVenue Kolkata Hyderabad Chennai Visakhapatnam Ahmedabad Guwahati Hyderabad Chennai Ahmedabad Visakhapatnam Guwahati Mumbai Lucknow Bengaluru Kolkata Lucknow Chennai New Chandigarh Kolkata Hyderabad Mumbai New Chandigarh Ahmedabad Bengaluru Chennai Lucknow Hyderabad Jaipur Delhi Lucknow New Chandigarh Delhi Mumbai Bengaluru Ahmedabad Jaipur New Chandigarh\\n\\nOFFICIAL DIGITAL STREAMING PARTNER\\n\\nMatch No Match Day\\n\\n38 39 40 41 42 43 44 45 46 47 48 49 50 51 52 53 54 55 56 57 58 59 60 61 62 63 64 65 66 67 68 69 70 71 72 73 74\\n\\n30 31 32 33 34 35 36 37 37 38 39 40 41 42 43 44 44 45 46 47 48 49 50 51 51 52 53 54 55 56 57 58 58 60 61 63 65\\n\\nTITLE SPONSOR\\n\\n2025 SEASON SCHEDULE IPLT20.COM\\n\\nDate 20-Apr-25 21-Apr-25 22-Apr-25 23-Apr-25 24-Apr-25 25-Apr-25 26-Apr-25 27-Apr-25 27-Apr-25 28-Apr-25 29-Apr-25 30-Apr-25 01-May-25 02-May-25 03-May-25 04-May-25 04-May-25 05-May-25 06-May-25 07-May-25 08-May-25 09-May-25 10-May-25 11-May-25 11-May-25 12-May-25 13-May-25 14-May-25 15-May-25 16-May-25 17-May-25 18-May-25 18-May-25 20-May-25 21-May-25 23-May-25 25-May-25\\n\\nDay Sun Mon Tue Wed Thu Fri Sat Sun Sun Mon Tue Wed Thu Fri Sat Sun Sun Mon Tue Wed Thu Fri Sat Sun Sun Mon Tue Wed Thu Fri Sat Sun Sun Tue Wed Fri Sun\\n\\nStart 7:30 PM 7:30 PM 7:30 PM 7:30 PM 7:30 PM 7:30 PM 7:30 PM 3:30 PM 7:30 PM 7:30 PM 7:30 PM 7:30 PM 7:30 PM 7:30 PM 7:30 PM 3:30 PM 7:30 PM 7:30 PM 7:30 PM 7:30 PM 7:30 PM 7:30 PM 7:30 PM 3:30 PM 7:30 PM 7:30 PM 7:30 PM 7:30 PM 7:30 PM 7:30 PM 7:30 PM 3:30 PM 7:30 PM 7:30 PM 7:30 PM 7:30 PM 7:30 PM\\n\\nHome\\n\\nMumbai Indians Kolkata Knight Riders Lucknow Super Giants Sunrisers Hyderabad Royal Challengers Bengaluru Chennai Super Kings Kolkata Knight Riders Mumbai Indians Delhi Capitals Rajasthan Royals Delhi Capitals Chennai Super Kings Rajasthan Royals Gujarat Titans Royal Challengers Bengaluru Kolkata Knight Riders Punjab Kings Sunrisers Hyderabad Mumbai Indians Kolkata Knight Riders Punjab Kings Lucknow Super Giants Sunrisers Hyderabad Punjab Kings Delhi Capitals Chennai Super Kings Royal Challengers Bengaluru Gujarat Titans Mumbai Indians Rajasthan Royals Royal Challengers Bengaluru Gujarat Titans Lucknow Super Giants\\n\\nAway Chennai Super Kings Gujarat Titans Delhi Capitals Mumbai Indians Rajasthan Royals Sunrisers Hyderabad Punjab Kings Lucknow Super Giants Royal Challengers Bengaluru Gujarat Titans Kolkata Knight Riders Punjab Kings Mumbai Indians Sunrisers Hyderabad Chennai Super Kings Rajasthan Royals Lucknow Super Giants Delhi Capitals Gujarat Titans Chennai Super Kings Delhi Capitals Royal Challengers Bengaluru Kolkata Knight Riders Mumbai Indians Gujarat Titans Rajasthan Royals Sunrisers Hyderabad Lucknow Super Giants Delhi Capitals Punjab Kings Kolkata Knight Riders Chennai Super Kings Sunrisers Hyderabad\\n\\nQualiﬁer 1 Eliminator Qualiﬁer 2 Final\\n\\nASSOCIATE PARTNER\\n\\nOFFICIAL UMPIRE PARTNER\\n\\nOFFICIAL STRATEGIC TIMEOUT PARTNER\\n\\nOFFICIAL BROADCASTER\\n\\nPlease note that this schedule may be subject to change for any reason as may be required in the sole discretion of BCCI\\n\\nVenue Mumbai Kolkata Lucknow Hyderabad Bengaluru Chennai Kolkata Mumbai Delhi Jaipur Delhi Chennai Jaipur Ahmedabad Bengaluru Kolkata Dharamsala Hyderabad Mumbai Kolkata Dharamsala Lucknow Hyderabad Dharamsala Delhi Chennai Bengaluru Ahmedabad Mumbai Jaipur Bengaluru Ahmedabad Lucknow Hyderabad Hyderabad Kolkata Kolkata\\n\\nOFFICIAL DIGITAL STREAMING PARTNER')]"
      ]
     },
     "execution_count": 12,
     "metadata": {},
     "output_type": "execute_result"
    }
   ],
   "source": [
    "from langchain_community.document_loaders import UnstructuredFileLoader\n",
    "\n",
    "loader = UnstructuredFileLoader(\"IPL  Schedule Season 2025.pdf\")\n",
    "documents = loader.load()\n",
    "\n",
    "documents   # This will be a list of Document Objects"
   ]
  },
  {
   "cell_type": "markdown",
   "metadata": {},
   "source": [
    "## Create Text Splitter"
   ]
  },
  {
   "cell_type": "code",
   "execution_count": 13,
   "metadata": {
    "id": "RJFieCp0UFux"
   },
   "outputs": [],
   "source": [
    "text_splitter = CharacterTextSplitter(chunk_size=1000, chunk_overlap=50)"
   ]
  },
  {
   "cell_type": "code",
   "execution_count": 14,
   "metadata": {
    "colab": {
     "base_uri": "https://localhost:8080/"
    },
    "id": "ho9eMRtRUFyB",
    "outputId": "73bcab43-468c-44ba-dc9b-6a28c1eea636"
   },
   "outputs": [
    {
     "data": {
      "text/plain": [
       "<langchain_text_splitters.character.CharacterTextSplitter at 0x78425c21a390>"
      ]
     },
     "execution_count": 14,
     "metadata": {},
     "output_type": "execute_result"
    }
   ],
   "source": [
    "text_splitter"
   ]
  },
  {
   "cell_type": "markdown",
   "metadata": {},
   "source": [
    "## Split Documents into Text Chunks"
   ]
  },
  {
   "cell_type": "code",
   "execution_count": 15,
   "metadata": {
    "id": "mvoMlrzAUFz7"
   },
   "outputs": [],
   "source": [
    "texts = text_splitter.split_documents(documents)"
   ]
  },
  {
   "cell_type": "markdown",
   "metadata": {},
   "source": [
    "##  Initialize Embeddings Model"
   ]
  },
  {
   "cell_type": "code",
   "execution_count": 16,
   "metadata": {
    "colab": {
     "base_uri": "https://localhost:8080/",
     "height": 563,
     "referenced_widgets": [
      "04beb91ab4f74242be13ffe4c345fe87",
      "a53db9bce41646cea4e87d192ba83557",
      "6229d6d5dc3c443fa747b3a8736a40b2",
      "d39413143e0a4015a71d91f235ef6b69",
      "8b3da2b576474946bdfaab9904c639e7",
      "aeb037f2b5db441d862bd06ea1f66a67",
      "df943a7396c149429a58fbf8ba90e83a",
      "625914cba4104daabbed4ef813b7ae97",
      "1356aea872484933b31074fa29ff97ee",
      "c627c9d72f844d42bda38f6eddfa8f0c",
      "e64acf80fe54451b891f8e824e975e29",
      "a91c8cd2d6de4a709bd84b3321648e4a",
      "7522156035684bb38bdd91d2caaa5b90",
      "df493684b9274cc2a850ffe712e29ec4",
      "9df51bdaf18449de9bb75ca938cd2136",
      "f9524fb4dcc147faa24f968a453c6a09",
      "de3484c07d7e4e4b90d74f96456c8667",
      "9f48d8b3cc5243dea8762a695383c67b",
      "02f95f8893554298bc93ac0db91b73c3",
      "4e042c31d741484b8d01ee5bbb2367b9",
      "c876b71cfde7480fb61e6f5de62664e0",
      "db2d4aa19f3a46f4b6bbe75a8d20cb77",
      "0b5a47b7c26d4dd49a04b40bf6b1a069",
      "4cae4fc05fdb46719ebcd729298df802",
      "8a5f3840edd248f29448a84e40abfb1f",
      "c9b22fe21f00406daf75685390c504c2",
      "2c4b5f05907744c6b757f1d1c18c347e",
      "b289ea28d5a44d7ab7ce4f5daa485472",
      "965d6467d1144ef59ced946d5cb7d7a2",
      "195ad05de3344f889aa5c89550d8e56a",
      "3814c85914f6454390e61eb20e9f5754",
      "ddc0d0dd1b6b4ba5bb5aef36fca58ac6",
      "060d6169a2e14525bb341c7e8e531ac6",
      "f283996b03c84899983a8886077e4ad7",
      "f547f00ab321498fbed9d7d8f93c4ce0",
      "bcd7292744574d08aedf13c65651cb8f",
      "9108ed6c60484449b2c1b4ed68a04072",
      "088427bd667f47089eec46e6ede83449",
      "2262efb9a1e9446382c490dfa3daf887",
      "8fa01924cc8d446b9bf31bf0a99be227",
      "2d35053e0387458291e75f570c5e5191",
      "089fa788b7e54171a53901d7e113d541",
      "160104ecaeec4155854d0c7369db1c07",
      "48f45343d18e4d2a9acd8393150fa129",
      "98e669fff2c84425afb6f1e21d7902ad",
      "33c916ab287744128e01245fd7c4c7b4",
      "7bde095737504248b799b04f92c716f5",
      "fd55f3e14a7a4427b7a59e7ad1078968",
      "f1fadf0a99694118ba9f109f8c1fd11a",
      "5dbaceea96774d57ae5c02489e6825c0",
      "0d78f72f29a444a991c98906ee757c70",
      "65714ce77c494f5e8491eb4852709447",
      "24c8c71ca945413d9151529fec6ac33a",
      "e0ed95b8604c4e649db2748b58850136",
      "6f2dfa00e2fb4156b64aea5081fe962a",
      "205468c93f1348f19b731e594abbd2ed",
      "e9bb2748df1543debe8242fae40991db",
      "422eaad11b774915947d5843213af960",
      "cbf83675fbb04bb1a0f8f421fa1711fe",
      "b334e9ea5bbe4c45abf8476724471c48",
      "f8249a71e81c4bf6ba92b55aaf1179ff",
      "e95d296bba3242188b6848216c4c0dc6",
      "56fa9e51298b479f92272d59ca548ba1",
      "d1aa55d5fc484269a4dac288268998f1",
      "8a9511c5c1d74d36b94138027519ef7b",
      "b7bc77fb46e84148a35745e5da0ef097",
      "4c02fcb879624ea2873e719d8aa8486b",
      "3d41d78d3d704013b4f78a300809f951",
      "7e1f7fafbcba4496982bb4573a10c1bb",
      "9e4d98a4193e451e9c114c624955e045",
      "e5c9f4ba588a42849fc06813fb7f6ee7",
      "00ed3c08b1024390bc3be917f4bc20f3",
      "92b173117bf94ea0aaa26401cf8966fd",
      "9867e6bf0c704cbb83cf89ef651585c1",
      "59cf61660300415fb8000f09aaa6d120",
      "16c954da58bc4a4aa12336566402f734",
      "803edbf4e6a8482298cf766f39fdaaf7",
      "6002a2d7ab6d484584ed5bf98d832bde",
      "21779980d93b427d946ecd35c56f2522",
      "672bee7a07804423804d4c0414a137e0",
      "5536f84a63444db2b4257752bdcb245c",
      "13a5b93132104b1ab383178b8c143d8c",
      "b75889cc100c46228a8ee90c7c867298",
      "c5f680ea2229463b9b9d40049b73e865",
      "9f3b34000c2a4db1b556d93cdbfd5c31",
      "8c0e6fa490784073939e6c43efc7276e",
      "ac0d7ec830ca4a00812501b0142d76ef",
      "5cce603ae0544e93a668718ae8ca8c5e",
      "564e503903a74ce9a53405a81112766f",
      "713200b32fc24617911b951fa8c0c49b",
      "15c32117a23d431e89ff31f50c3301d9",
      "4d60e5e890bb4d4681a08f80c27c229b",
      "bc05428279044f83b8f5618d0e516857",
      "049a28a7053a4480bbae4a4108423d51",
      "d9d29cf030074a7981805f1a7f14e070",
      "ccb9a3efa68341ce98d56f3a5061632b",
      "357b9851fc3245f99e52c88f679a7dba",
      "dce3abba5fa34239b1d30f1de64080d0",
      "9d681ef0e55c48bc945a233c7050191d",
      "372430081e3e4437a4345df789498a64",
      "fa8bad1d41a94324a9cfab4f4c507394",
      "de6388a56ded42359ceaa43b8748a45d",
      "b17aed60131d4b38b5159fafe6f8200b",
      "b55559c2cb694e68b69bb58c4e59714f",
      "9561c2f072914380b433d64233b99817",
      "0ec86697de9a416894c08cab8832a624",
      "3705da4d640c46b28d29ee0ebe1b79b4",
      "83d60a5fde2f4e489219351536fe9037",
      "4af88d033dad4ab5a623a28c4b873a19",
      "936f49586d8d49908ddf9ea30610c125",
      "2c2158b005104dbda1b12dbfbda321d8",
      "8b9c50bbe39e4584b8bbf7ee0aaf0429",
      "dbed69aa4b154d468a46a06b9106beef",
      "6b6447f6679a4efeaf7e0de0b04bdaa8",
      "0f6703cf24a74518b262501c6e091543",
      "3742de8b6ddc47aab0b6e8684e135d43",
      "ca9c5d3c9e2d4d77a61467400a432834",
      "e5dfdef278604fde9902dab4372ebd32",
      "c047bf2cf6a14f38be23a19ccc11c054",
      "ab70f0d1654144a9965906173085bfec",
      "42acafba8657487db07c260ec06a1229"
     ]
    },
    "id": "NmuYd-RUUF3m",
    "outputId": "83f609e8-3fb3-4d49-f678-08d5d0e454c4"
   },
   "outputs": [
    {
     "name": "stderr",
     "output_type": "stream",
     "text": [
      "/tmp/ipython-input-16-3655315981.py:1: LangChainDeprecationWarning: The class `HuggingFaceEmbeddings` was deprecated in LangChain 0.2.2 and will be removed in 1.0. An updated version of the class exists in the :class:`~langchain-huggingface package and should be used instead. To use it run `pip install -U :class:`~langchain-huggingface` and import as `from :class:`~langchain_huggingface import HuggingFaceEmbeddings``.\n",
      "  embeddings = HuggingFaceEmbeddings()\n",
      "/tmp/ipython-input-16-3655315981.py:1: LangChainDeprecationWarning: Default values for HuggingFaceEmbeddings.model_name were deprecated in LangChain 0.2.16 and will be removed in 0.4.0. Explicitly pass a model_name to the HuggingFaceEmbeddings constructor instead.\n",
      "  embeddings = HuggingFaceEmbeddings()\n",
      "/usr/local/lib/python3.11/dist-packages/huggingface_hub/utils/_auth.py:94: UserWarning: \n",
      "The secret `HF_TOKEN` does not exist in your Colab secrets.\n",
      "To authenticate with the Hugging Face Hub, create a token in your settings tab (https://huggingface.co/settings/tokens), set it as secret in your Google Colab and restart your session.\n",
      "You will be able to reuse this secret in all of your notebooks.\n",
      "Please note that authentication is recommended but still optional to access public models or datasets.\n",
      "  warnings.warn(\n"
     ]
    },
    {
     "data": {
      "application/vnd.jupyter.widget-view+json": {
       "model_id": "04beb91ab4f74242be13ffe4c345fe87",
       "version_major": 2,
       "version_minor": 0
      },
      "text/plain": [
       "modules.json:   0%|          | 0.00/349 [00:00<?, ?B/s]"
      ]
     },
     "metadata": {},
     "output_type": "display_data"
    },
    {
     "data": {
      "application/vnd.jupyter.widget-view+json": {
       "model_id": "a91c8cd2d6de4a709bd84b3321648e4a",
       "version_major": 2,
       "version_minor": 0
      },
      "text/plain": [
       "config_sentence_transformers.json:   0%|          | 0.00/116 [00:00<?, ?B/s]"
      ]
     },
     "metadata": {},
     "output_type": "display_data"
    },
    {
     "data": {
      "application/vnd.jupyter.widget-view+json": {
       "model_id": "0b5a47b7c26d4dd49a04b40bf6b1a069",
       "version_major": 2,
       "version_minor": 0
      },
      "text/plain": [
       "README.md: 0.00B [00:00, ?B/s]"
      ]
     },
     "metadata": {},
     "output_type": "display_data"
    },
    {
     "data": {
      "application/vnd.jupyter.widget-view+json": {
       "model_id": "f283996b03c84899983a8886077e4ad7",
       "version_major": 2,
       "version_minor": 0
      },
      "text/plain": [
       "sentence_bert_config.json:   0%|          | 0.00/53.0 [00:00<?, ?B/s]"
      ]
     },
     "metadata": {},
     "output_type": "display_data"
    },
    {
     "data": {
      "application/vnd.jupyter.widget-view+json": {
       "model_id": "98e669fff2c84425afb6f1e21d7902ad",
       "version_major": 2,
       "version_minor": 0
      },
      "text/plain": [
       "config.json:   0%|          | 0.00/571 [00:00<?, ?B/s]"
      ]
     },
     "metadata": {},
     "output_type": "display_data"
    },
    {
     "data": {
      "application/vnd.jupyter.widget-view+json": {
       "model_id": "205468c93f1348f19b731e594abbd2ed",
       "version_major": 2,
       "version_minor": 0
      },
      "text/plain": [
       "model.safetensors:   0%|          | 0.00/438M [00:00<?, ?B/s]"
      ]
     },
     "metadata": {},
     "output_type": "display_data"
    },
    {
     "data": {
      "application/vnd.jupyter.widget-view+json": {
       "model_id": "4c02fcb879624ea2873e719d8aa8486b",
       "version_major": 2,
       "version_minor": 0
      },
      "text/plain": [
       "tokenizer_config.json:   0%|          | 0.00/363 [00:00<?, ?B/s]"
      ]
     },
     "metadata": {},
     "output_type": "display_data"
    },
    {
     "data": {
      "application/vnd.jupyter.widget-view+json": {
       "model_id": "6002a2d7ab6d484584ed5bf98d832bde",
       "version_major": 2,
       "version_minor": 0
      },
      "text/plain": [
       "vocab.txt: 0.00B [00:00, ?B/s]"
      ]
     },
     "metadata": {},
     "output_type": "display_data"
    },
    {
     "data": {
      "application/vnd.jupyter.widget-view+json": {
       "model_id": "564e503903a74ce9a53405a81112766f",
       "version_major": 2,
       "version_minor": 0
      },
      "text/plain": [
       "tokenizer.json: 0.00B [00:00, ?B/s]"
      ]
     },
     "metadata": {},
     "output_type": "display_data"
    },
    {
     "data": {
      "application/vnd.jupyter.widget-view+json": {
       "model_id": "372430081e3e4437a4345df789498a64",
       "version_major": 2,
       "version_minor": 0
      },
      "text/plain": [
       "special_tokens_map.json:   0%|          | 0.00/239 [00:00<?, ?B/s]"
      ]
     },
     "metadata": {},
     "output_type": "display_data"
    },
    {
     "data": {
      "application/vnd.jupyter.widget-view+json": {
       "model_id": "2c2158b005104dbda1b12dbfbda321d8",
       "version_major": 2,
       "version_minor": 0
      },
      "text/plain": [
       "config.json:   0%|          | 0.00/190 [00:00<?, ?B/s]"
      ]
     },
     "metadata": {},
     "output_type": "display_data"
    }
   ],
   "source": [
    "embeddings = HuggingFaceEmbeddings()"
   ]
  },
  {
   "cell_type": "markdown",
   "metadata": {},
   "source": [
    "## Create Persistent Vector Database"
   ]
  },
  {
   "cell_type": "code",
   "execution_count": 17,
   "metadata": {
    "id": "Dn5kUMPdYErD"
   },
   "outputs": [],
   "source": [
    "persist_directory = \"vector_db\""
   ]
  },
  {
   "cell_type": "code",
   "execution_count": 18,
   "metadata": {
    "id": "JaRm__QHYYjX"
   },
   "outputs": [],
   "source": [
    "vectordb=Chroma.from_documents(texts,embeddings,persist_directory=persist_directory)"
   ]
  },
  {
   "cell_type": "markdown",
   "metadata": {},
   "source": [
    "### Create Retriever Interface"
   ]
  },
  {
   "cell_type": "code",
   "execution_count": 19,
   "metadata": {
    "id": "Bt0qo9plYYfy"
   },
   "outputs": [],
   "source": [
    "retriever=vectordb.as_retriever()"
   ]
  },
  {
   "cell_type": "markdown",
   "metadata": {},
   "source": [
    "## Initialize Large Language Model (LLM)"
   ]
  },
  {
   "cell_type": "code",
   "execution_count": 20,
   "metadata": {
    "id": "lBGHxUHtYYeB"
   },
   "outputs": [],
   "source": [
    "llm=ChatGroq(model=\"llama-3.3-70b-versatile\",temperature=0)"
   ]
  },
  {
   "cell_type": "markdown",
   "metadata": {},
   "source": [
    "### Create RetrievalQA Chain"
   ]
  },
  {
   "cell_type": "code",
   "execution_count": 21,
   "metadata": {
    "id": "mHGWnsfdYYWo"
   },
   "outputs": [],
   "source": [
    "qa_chain = RetrievalQA.from_chain_type(llm=llm, chain_type=\"stuff\", retriever=retriever,return_source_documents=True)"
   ]
  },
  {
   "cell_type": "code",
   "execution_count": 23,
   "metadata": {
    "id": "XAK9ZB7AZVPx"
   },
   "outputs": [],
   "source": [
    "query='List all venues of RCB'\n",
    "response=qa_chain({'query':query})"
   ]
  },
  {
   "cell_type": "code",
   "execution_count": 24,
   "metadata": {
    "colab": {
     "base_uri": "https://localhost:8080/"
    },
    "id": "bOrf39orcFSc",
    "outputId": "0e0221c6-c7c3-4a2c-9e64-21dbe1ed7a6e"
   },
   "outputs": [
    {
     "name": "stdout",
     "output_type": "stream",
     "text": [
      "{'query': 'List all venues of RCB', 'result': 'Based on the provided context, the venues where Royal Challengers Bengaluru (RCB) will play are:\\n\\n1. Bengaluru \\n2. Mumbai\\n3. Lucknow\\n4. Hyderabad\\n5. Chennai\\n6. Kolkata\\n7. Jaipur\\n8. Ahmedabad\\n9. Dharamsala\\n10. Delhi', 'source_documents': [Document(id='685157dd-9ee0-42f7-b843-ded5e0d02823', metadata={'source': 'IPL  Schedule Season 2025.pdf'}, page_content='Venue Mumbai Kolkata Lucknow Hyderabad Bengaluru Chennai Kolkata Mumbai Delhi Jaipur Delhi Chennai Jaipur Ahmedabad Bengaluru Kolkata Dharamsala Hyderabad Mumbai Kolkata Dharamsala Lucknow Hyderabad Dharamsala Delhi Chennai Bengaluru Ahmedabad Mumbai Jaipur Bengaluru Ahmedabad Lucknow Hyderabad Hyderabad Kolkata Kolkata\\n\\nOFFICIAL DIGITAL STREAMING PARTNER'), Document(id='bdaccc94-7f1f-4003-a7a4-3e3a33409844', metadata={'source': 'IPL  Schedule Season 2025.pdf'}, page_content='Away\\n\\nRoyal Challengers Bengaluru Rajasthan Royals Mumbai Indians Lucknow Super Giants Punjab Kings Kolkata Knight Riders Lucknow Super Giants Royal Challengers Bengaluru Mumbai Indians Sunrisers Hyderabad Chennai Super Kings Kolkata Knight Riders Punjab Kings Gujarat Titans Sunrisers Hyderabad Mumbai Indians Delhi Capitals Rajasthan Royals Lucknow Super Giants Gujarat Titans Royal Challengers Bengaluru Chennai Super Kings Rajasthan Royals Delhi Capitals Kolkata Knight Riders Gujarat Titans Punjab Kings Royal Challengers Bengaluru Mumbai Indians Chennai Super Kings Kolkata Knight Riders Rajasthan Royals Sunrisers Hyderabad Punjab Kings Delhi Capitals Lucknow Super Giants Royal Challengers Bengaluru\\n\\nASSOCIATE PARTNER\\n\\nOFFICIAL UMPIRE PARTNER\\n\\nOFFICIAL STRATEGIC TIMEOUT PARTNER\\n\\nOFFICIAL BROADCASTER\\n\\nPlease note that this schedule may be subject to change for any reason as may be required in the sole discretion of BCCI'), Document(id='f89f6f55-3b93-428e-923b-1805fbfc6840', metadata={'source': 'IPL  Schedule Season 2025.pdf'}, page_content='Venue Kolkata Hyderabad Chennai Visakhapatnam Ahmedabad Guwahati Hyderabad Chennai Ahmedabad Visakhapatnam Guwahati Mumbai Lucknow Bengaluru Kolkata Lucknow Chennai New Chandigarh Kolkata Hyderabad Mumbai New Chandigarh Ahmedabad Bengaluru Chennai Lucknow Hyderabad Jaipur Delhi Lucknow New Chandigarh Delhi Mumbai Bengaluru Ahmedabad Jaipur New Chandigarh\\n\\nOFFICIAL DIGITAL STREAMING PARTNER\\n\\nMatch No Match Day\\n\\n38 39 40 41 42 43 44 45 46 47 48 49 50 51 52 53 54 55 56 57 58 59 60 61 62 63 64 65 66 67 68 69 70 71 72 73 74\\n\\n30 31 32 33 34 35 36 37 37 38 39 40 41 42 43 44 44 45 46 47 48 49 50 51 51 52 53 54 55 56 57 58 58 60 61 63 65\\n\\nTITLE SPONSOR\\n\\n2025 SEASON SCHEDULE IPLT20.COM'), Document(id='631c089e-c3fc-467b-99bd-0e6a726d4a66', metadata={'source': 'IPL  Schedule Season 2025.pdf'}, page_content='Away Chennai Super Kings Gujarat Titans Delhi Capitals Mumbai Indians Rajasthan Royals Sunrisers Hyderabad Punjab Kings Lucknow Super Giants Royal Challengers Bengaluru Gujarat Titans Kolkata Knight Riders Punjab Kings Mumbai Indians Sunrisers Hyderabad Chennai Super Kings Rajasthan Royals Lucknow Super Giants Delhi Capitals Gujarat Titans Chennai Super Kings Delhi Capitals Royal Challengers Bengaluru Kolkata Knight Riders Mumbai Indians Gujarat Titans Rajasthan Royals Sunrisers Hyderabad Lucknow Super Giants Delhi Capitals Punjab Kings Kolkata Knight Riders Chennai Super Kings Sunrisers Hyderabad\\n\\nQualiﬁer 1 Eliminator Qualiﬁer 2 Final\\n\\nASSOCIATE PARTNER\\n\\nOFFICIAL UMPIRE PARTNER\\n\\nOFFICIAL STRATEGIC TIMEOUT PARTNER\\n\\nOFFICIAL BROADCASTER\\n\\nPlease note that this schedule may be subject to change for any reason as may be required in the sole discretion of BCCI')]}\n"
     ]
    }
   ],
   "source": [
    "print(response)"
   ]
  },
  {
   "cell_type": "code",
   "execution_count": 25,
   "metadata": {
    "colab": {
     "base_uri": "https://localhost:8080/"
    },
    "id": "4yaKoHE2cIyD",
    "outputId": "9001be8a-2b32-4b7e-fd07-41fb92ba1874"
   },
   "outputs": [
    {
     "name": "stdout",
     "output_type": "stream",
     "text": [
      "Based on the provided context, the venues where Royal Challengers Bengaluru (RCB) will play are:\n",
      "\n",
      "1. Bengaluru \n",
      "2. Mumbai\n",
      "3. Lucknow\n",
      "4. Hyderabad\n",
      "5. Chennai\n",
      "6. Kolkata\n",
      "7. Jaipur\n",
      "8. Ahmedabad\n",
      "9. Dharamsala\n",
      "10. Delhi\n"
     ]
    }
   ],
   "source": [
    "print(response['result'])"
   ]
  },
  {
   "cell_type": "code",
   "execution_count": 27,
   "metadata": {
    "id": "NPFUzlHRWlq_"
   },
   "outputs": [],
   "source": [
    "query='Total runs scored by Virat Kohli'\n",
    "response=qa_chain({'query':query})"
   ]
  },
  {
   "cell_type": "code",
   "execution_count": 28,
   "metadata": {
    "colab": {
     "base_uri": "https://localhost:8080/"
    },
    "id": "JlWUzbJoWorj",
    "outputId": "6858ee44-64eb-4f6f-8da5-bd37943f0fee"
   },
   "outputs": [
    {
     "name": "stdout",
     "output_type": "stream",
     "text": [
      "I don't know the total runs scored by Virat Kohli as the provided context does not contain this information. The context appears to be a schedule for the 2025 IPL season, with team names, venues, and match dates, but it does not include any statistics about individual player performances.\n"
     ]
    }
   ],
   "source": [
    "print(response['result'])"
   ]
  },
  {
   "cell_type": "code",
   "execution_count": 31,
   "metadata": {
    "id": "-SkEZvg5aMsP"
   },
   "outputs": [],
   "source": [
    "query='Who is the Prime Minister of India'\n",
    "response=qa_chain({'query':query})"
   ]
  },
  {
   "cell_type": "code",
   "execution_count": 32,
   "metadata": {
    "colab": {
     "base_uri": "https://localhost:8080/"
    },
    "id": "nRwcd_1raVUR",
    "outputId": "57c7e7d8-16a0-419d-d9ab-26f87670accd"
   },
   "outputs": [
    {
     "name": "stdout",
     "output_type": "stream",
     "text": [
      "I don't know the current Prime Minister of India based on the provided context, as it appears to be related to the Indian Premier League (IPL) schedule and does not contain information about the Prime Minister of India.\n"
     ]
    }
   ],
   "source": [
    "print(response['result'])"
   ]
  }
 ],
 "metadata": {
  "accelerator": "GPU",
  "colab": {
   "gpuType": "T4",
   "provenance": []
  },
  "kernelspec": {
   "display_name": "Python 3",
   "name": "python3"
  },
  "language_info": {
   "name": "python"
  }
 },
 "nbformat": 4,
 "nbformat_minor": 0
}
